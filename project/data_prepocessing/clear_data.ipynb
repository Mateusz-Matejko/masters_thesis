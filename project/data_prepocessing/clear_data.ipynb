{
 "cells": [
  {
   "cell_type": "code",
   "execution_count": 1,
   "id": "b0bd3306-d619-4027-8360-f8091050d54f",
   "metadata": {},
   "outputs": [],
   "source": [
    "import pandas as pd\n",
    "import numpy as np"
   ]
  },
  {
   "cell_type": "code",
   "execution_count": 6,
   "id": "7e6c37a4-b5be-492e-a059-2e6fc6545176",
   "metadata": {},
   "outputs": [],
   "source": [
    "collected_08_23 = {\n",
    "    \"otodom_krk\" : \"../original_data/collected_08_23/master_data/otodom_krk.json\",\n",
    "    \"otodom_gda\" : \"../original_data/collected_08_23/master_data/otodom_gda.json\",\n",
    "    \"olx_gda\" : \"../original_data/collected_08_23/master_data/olx_gda.json\",\n",
    "    \"olx_krk\" : \"../original_data/collected_08_23/master_data/olx_krk.json\",\n",
    "    \"gratka_gda\" : \"../original_data/collected_08_23/master_data/gratka_gda.json\",\n",
    "    \"gratak_krk\" : \"../original_data/collected_08_23/master_data/gratka_krk.json\",\n",
    "    \"trojmiasto_gda\" : \"../original_data/collected_08_23/master_data/trojmiasto_gda.json\"\n",
    "}"
   ]
  },
  {
   "cell_type": "code",
   "execution_count": 16,
   "id": "e796288a-6144-4c25-9a67-d5639086f2e1",
   "metadata": {},
   "outputs": [
    {
     "ename": "SyntaxError",
     "evalue": "cannot assign to f-string expression here. Maybe you meant '==' instead of '='? (3086590710.py, line 2)",
     "output_type": "error",
     "traceback": [
      "\u001b[0;36m  Cell \u001b[0;32mIn[16], line 2\u001b[0;36m\u001b[0m\n\u001b[0;31m    f\"{key}\" = pd.read_json(value)\u001b[0m\n\u001b[0m    ^\u001b[0m\n\u001b[0;31mSyntaxError\u001b[0m\u001b[0;31m:\u001b[0m cannot assign to f-string expression here. Maybe you meant '==' instead of '='?\n"
     ]
    }
   ],
   "source": [
    "# Create a dictionary to store DataFrames\n",
    "dataframes_08_23 = {}\n",
    "\n",
    "# Iterate through the JSON data and create DataFrames\n",
    "for key, value in collected_08_23.items():\n",
    "    dataframes_08_23[key] = pd.read_json(value)  # Assuming the data is in JSON format\n",
    "\n",
    "# Now, you have a dictionary of DataFrames where each key is a dataset\n",
    "# You can access them like this:\n",
    "otodom_krk_df = dataframes_08_23[\"otodom_krk\"]\n",
    "otodom_gda_df = dataframes_08_23[\"otodom_gda\"]\n",
    "olx_gda_df = dataframes_08_23[\"olx_gda\"]\n",
    "olx_krk_df = dataframes_08_23[\"olx_krk\"]\n",
    "gratka_gda_df = dataframes_08_23[\"gratka_gda\"]\n",
    "gratak_krk_df = dataframes_08_23[\"gratak_krk\"]\n",
    "trojmiasto_gda_df = dataframes_08_23[\"trojmiasto_gda\"]"
   ]
  },
  {
   "cell_type": "code",
   "execution_count": 17,
   "id": "9f7295c8-79c2-49e6-92d2-2df8755f3876",
   "metadata": {},
   "outputs": [
    {
     "ename": "NameError",
     "evalue": "name 'otodom_krk' is not defined",
     "output_type": "error",
     "traceback": [
      "\u001b[0;31m---------------------------------------------------------------------------\u001b[0m",
      "\u001b[0;31mNameError\u001b[0m                                 Traceback (most recent call last)",
      "Cell \u001b[0;32mIn[17], line 1\u001b[0m\n\u001b[0;32m----> 1\u001b[0m \u001b[43motodom_krk\u001b[49m\u001b[38;5;241m.\u001b[39mhead()\n",
      "\u001b[0;31mNameError\u001b[0m: name 'otodom_krk' is not defined"
     ]
    }
   ],
   "source": [
    "otodom_krk.head()"
   ]
  },
  {
   "cell_type": "code",
   "execution_count": null,
   "id": "b6ed3515-8315-475e-b415-a9b224b8272a",
   "metadata": {},
   "outputs": [],
   "source": []
  }
 ],
 "metadata": {
  "kernelspec": {
   "display_name": "Python 3 (ipykernel)",
   "language": "python",
   "name": "python3"
  },
  "language_info": {
   "codemirror_mode": {
    "name": "ipython",
    "version": 3
   },
   "file_extension": ".py",
   "mimetype": "text/x-python",
   "name": "python",
   "nbconvert_exporter": "python",
   "pygments_lexer": "ipython3",
   "version": "3.10.10"
  }
 },
 "nbformat": 4,
 "nbformat_minor": 5
}
