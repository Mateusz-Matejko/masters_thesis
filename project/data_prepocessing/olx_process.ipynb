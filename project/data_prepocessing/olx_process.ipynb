{
 "cells": [
  {
   "cell_type": "code",
   "execution_count": 1,
   "id": "bb2cc1bc-93af-470a-855d-28a068cbb40e",
   "metadata": {},
   "outputs": [],
   "source": [
    "import pandas as pd\n",
    "import numpy as np\n",
    "import re"
   ]
  },
  {
   "cell_type": "code",
   "execution_count": 2,
   "id": "08122690-371c-4923-89a4-5792f2118a91",
   "metadata": {},
   "outputs": [],
   "source": [
    "# pd.set_option('display.max_colwidth', None)"
   ]
  },
  {
   "cell_type": "code",
   "execution_count": 3,
   "id": "fae04109-d2a1-45c7-b349-4f067798d64b",
   "metadata": {},
   "outputs": [],
   "source": [
    "pd.reset_option('display.max_colwidth')"
   ]
  },
  {
   "cell_type": "code",
   "execution_count": 84,
   "id": "508c6ec4-5c4a-4230-a83f-deba76133281",
   "metadata": {},
   "outputs": [],
   "source": [
    "collected_08_23 = {\n",
    "    \"otodom_krk\" : \"../original_data/collected_08_23/master_data/otodom_krk.json\",\n",
    "    \"otodom_gda\" : \"../original_data/collected_08_23/master_data/otodom_gda.json\",\n",
    "    \"olx_gda\" : \"../original_data/collected_08_23/master_data/olx_gda.json\",\n",
    "    \"olx_krk\" : \"../original_data/collected_08_23/master_data/olx_krk.json\",\n",
    "    \"gratka_gda\" : \"../original_data/collected_08_23/master_data/gratka_gda.json\",\n",
    "    \"gratak_krk\" : \"../original_data/collected_08_23/master_data/gratka_krk.json\",\n",
    "    \"trojmiasto_gda\" : \"../original_data/collected_08_23/master_data/trojmiasto_gda.json\"\n",
    "}\n",
    "\n",
    "# Create a dictionary to store DataFrames\n",
    "dataframes_08_23 = {}\n",
    "\n",
    "# Iterate through the JSON data and create DataFrames\n",
    "for key, value in collected_08_23.items():\n",
    "    dataframes_08_23[key] = pd.read_json(value)  # Assuming the data is in JSON format\n",
    "\n",
    "# Now, you have a dictionary of DataFrames where each key is a dataset\n",
    "# You can access them like this:\n",
    "otodom_krk_df = dataframes_08_23[\"otodom_krk\"]\n",
    "otodom_gda_df = dataframes_08_23[\"otodom_gda\"]\n",
    "olx_gda_df = dataframes_08_23[\"olx_gda\"]\n",
    "olx_krk_df = dataframes_08_23[\"olx_krk\"]\n",
    "gratka_gda_df = dataframes_08_23[\"gratka_gda\"]\n",
    "gratak_krk_df = dataframes_08_23[\"gratak_krk\"]\n",
    "trojmiasto_gda_df = dataframes_08_23[\"trojmiasto_gda\"]"
   ]
  },
  {
   "cell_type": "code",
   "execution_count": 89,
   "id": "f76cc89a-1eba-463c-98c4-cf22214975e1",
   "metadata": {},
   "outputs": [],
   "source": [
    "df = olx_gda_df"
   ]
  },
  {
   "cell_type": "code",
   "execution_count": 86,
   "id": "1059df87-0c6b-418b-aa47-90f520de8d8b",
   "metadata": {},
   "outputs": [
    {
     "data": {
      "text/plain": [
       "rent                    0\n",
       "location                0\n",
       "username                0\n",
       "on_olx_since            0\n",
       "last_activity           0\n",
       "add_date                0\n",
       "title                   0\n",
       "link                    0\n",
       "description             0\n",
       "Prywatne               46\n",
       "Poziom                 12\n",
       "Umeblowane              0\n",
       "Rodzaj zabudowy         0\n",
       "Powierzchnia            0\n",
       "Liczba pokoi            0\n",
       "Czynsz (dodatkowo)      0\n",
       "Firmowe               328\n",
       "dtype: int64"
      ]
     },
     "execution_count": 86,
     "metadata": {},
     "output_type": "execute_result"
    }
   ],
   "source": [
    "olx_gda_df.isna().sum()"
   ]
  },
  {
   "cell_type": "code",
   "execution_count": 43,
   "id": "e2a7af80-ec57-4f00-bba8-260ec9fbdd32",
   "metadata": {
    "scrolled": true
   },
   "outputs": [
    {
     "name": "stdout",
     "output_type": "stream",
     "text": [
      "The string 'negocjacji' appears in 42 rows of the column 'rent'.\n"
     ]
    }
   ],
   "source": [
    "import pandas as pd\n",
    "\n",
    "# Assuming you have a DataFrame named 'df' and you want to check a specific column named 'your_column_name'\n",
    "target_string = 'negocjacji'\n",
    "column_name = 'rent'\n",
    "\n",
    "# Create a boolean mask to check if each row in the specified column contains the target string\n",
    "mask = olx_gda_df[column_name].str.contains(target_string, na=False)\n",
    "\n",
    "# Count the number of True values in the mask (i.e., the number of rows containing the target string)\n",
    "count = mask.sum()\n",
    "\n",
    "print(f\"The string '{target_string}' appears in {count} rows of the column '{column_name}'.\")\n"
   ]
  },
  {
   "cell_type": "code",
   "execution_count": 102,
   "id": "d03a6daf-0e48-44f6-9c1b-b3f43d4e1cc7",
   "metadata": {},
   "outputs": [
    {
     "data": {
      "text/plain": [
       "location\n",
       "Śródmieście                                     78\n",
       "Przymorze Wielkie                               43\n",
       "Brzeźno                                         33\n",
       "Przymorze Małe                                  32\n",
       "Wrzeszcz                                        32\n",
       "Żabianka - Wejhera - Jelitkowo - Tysiąclecia    30\n",
       "Chełm z dzielnicą Gdańsk Południe               17\n",
       "Jasień                                          14\n",
       "Ujeścisko - Łostowice                           14\n",
       "Letnica                                         12\n",
       "Piecki-Migowo                                   10\n",
       "Zaspa Młyniec                                   10\n",
       "Orunia - Św. Wojciech - Lipce                    9\n",
       "Zaspa Rozstaje                                   7\n",
       "Siedlce                                          7\n",
       "Stogi z Przeróbką                                6\n",
       "Oliwa                                            5\n",
       "Aniołki                                          5\n",
       "Wzgórze Mickiewicza                              2\n",
       "Matarnia                                         2\n",
       "Suchanino                                        2\n",
       "Brętowo                                          1\n",
       "Kokoszki                                         1\n",
       "Strzyża                                          1\n",
       "Młyniska                                         1\n",
       "Name: count, dtype: int64"
      ]
     },
     "execution_count": 102,
     "metadata": {},
     "output_type": "execute_result"
    }
   ],
   "source": [
    "olx_gda_df['location'].value_counts()"
   ]
  },
  {
   "cell_type": "code",
   "execution_count": 44,
   "id": "30418a20-eee7-4104-bfeb-566aee3b960a",
   "metadata": {},
   "outputs": [
    {
     "data": {
      "text/plain": [
       "(374, 17)"
      ]
     },
     "execution_count": 44,
     "metadata": {},
     "output_type": "execute_result"
    }
   ],
   "source": [
    "olx_gda_df.shape"
   ]
  },
  {
   "cell_type": "code",
   "execution_count": 66,
   "id": "cc27c600-066c-43d0-b5a8-36bc668af525",
   "metadata": {},
   "outputs": [],
   "source": [
    "def convert_numeric_to_float(convertable_string):\n",
    "    return float(convertable_string.replace(\"zł\", \"\").replace(\" \", \"\").replace(\"\\ndonegocjacji\", \"\"))\n",
    "\n",
    "def clear_olx(df: pd.DataFrame, city = 'Gdansk'):\n",
    "    df.drop(\n",
    "        labels=[\n",
    "            'link', \n",
    "            'username', \n",
    "            'on_olx_since', \n",
    "            'last_activity',\n",
    "            'title',\n",
    "            'description'\n",
    "        ],\n",
    "        inplace= True,\n",
    "        axis= 1\n",
    "    )\n",
    "    \n",
    "    is_negotiable_list = []\n",
    "    \n",
    "    for index, row in df.iterrows():\n",
    "\n",
    "        # negotiable\n",
    "        if 'do negocjacji' in row['rent']:\n",
    "            is_negotiable_list.append(True)\n",
    "        else:\n",
    "            is_negotiable_list.append(False)\n",
    "    \n",
    "    # negotiable apply\n",
    "    df['negotiable'] = is_negotiable_list\n",
    "\n",
    "\n",
    "    # rent\n",
    "    df['rent'] = df['rent'].apply(convert_numeric_to_float)\n",
    "\n",
    "    # rent_extra\n",
    "    df = df.rename(mapper={\"rent_extra\": \"Czynsz (dodatkowo)\"}, axis=1)\n",
    "    df['rent_extra'] = df['rent_extra'].apply(convert_numeric_to_float)"
   ]
  },
  {
   "cell_type": "code",
   "execution_count": 67,
   "id": "b6ded3e8-461c-4702-a18c-533947779a34",
   "metadata": {},
   "outputs": [
    {
     "name": "stdout",
     "output_type": "stream",
     "text": [
      "[False, False, False, False, False, True, False, False, True, False, False, True, False, False, True, True, False, False, False, False, False, False, False, False, False, False, False, False, False, False, False, False, False, False, False, False, False, True, False, False, False, False, True, False, False, False, False, False, False, False, False, False, False, True, True, False, False, False, False, False, False, False, False, False, False, False, False, False, False, False, False, False, True, False, False, False, False, False, False, True, False, False, False, False, False, False, False, True, False, False, False, False, False, False, False, False, False, True, False, False, False, False, False, True, False, False, False, False, True, False, False, False, False, False, False, True, False, False, False, False, False, False, False, False, False, False, False, False, True, True, False, False, True, False, False, False, False, False, False, False, False, False, False, False, False, False, False, False, False, True, False, False, False, False, False, False, False, False, False, True, False, False, False, False, False, False, False, False, False, False, True, False, False, False, False, False, False, False, False, False, False, False, False, False, False, True, False, False, False, False, False, False, False, False, False, False, False, False, False, False, False, False, True, False, False, False, True, False, False, False, False, False, False, True, False, False, False, False, False, False, False, False, True, False, False, False, False, False, False, False, False, True, False, False, False, False, False, False, False, False, False, False, False, False, False, False, False, False, False, False, False, False, False, True, True, False, False, False, False, True, False, False, False, True, False, False, False, False, False, False, False, False, False, False, False, False, False, False, True, False, False, False, False, False, False, False, False, False, False, False, False, False, False, False, False, False, False, False, False, False, False, False, True, False, False, False, True, False, False, False, False, False, False, False, False, False, False, False, False, False, False, False, False, True, False, True, False, False, False, False, False, False, False, False, False, False, False, False, True, False, True, False, False, False, False, False, False, False, False, True, False, False, False, False, False, False, False, False, False, False, False, False, False, False, False, False, True, False, False, True, False, False, False, False]\n"
     ]
    }
   ],
   "source": [
    "clear_olx(olx_gda_df)"
   ]
  },
  {
   "cell_type": "code",
   "execution_count": null,
   "id": "7b134218-71bd-42b4-ae57-ab0cd8aca2f3",
   "metadata": {},
   "outputs": [],
   "source": []
  }
 ],
 "metadata": {
  "kernelspec": {
   "display_name": "Python 3 (ipykernel)",
   "language": "python",
   "name": "python3"
  },
  "language_info": {
   "codemirror_mode": {
    "name": "ipython",
    "version": 3
   },
   "file_extension": ".py",
   "mimetype": "text/x-python",
   "name": "python",
   "nbconvert_exporter": "python",
   "pygments_lexer": "ipython3",
   "version": "3.10.10"
  }
 },
 "nbformat": 4,
 "nbformat_minor": 5
}
