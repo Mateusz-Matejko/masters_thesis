{
 "cells": [
  {
   "cell_type": "code",
   "execution_count": 402,
   "id": "bb2cc1bc-93af-470a-855d-28a068cbb40e",
   "metadata": {},
   "outputs": [],
   "source": [
    "import pandas as pd\n",
    "import numpy as np\n",
    "import re"
   ]
  },
  {
   "cell_type": "code",
   "execution_count": 403,
   "id": "08122690-371c-4923-89a4-5792f2118a91",
   "metadata": {},
   "outputs": [],
   "source": [
    "# pd.set_option('display.max_colwidth', None)"
   ]
  },
  {
   "cell_type": "code",
   "execution_count": 404,
   "id": "fae04109-d2a1-45c7-b349-4f067798d64b",
   "metadata": {},
   "outputs": [],
   "source": [
    "pd.reset_option('display.max_colwidth')"
   ]
  },
  {
   "cell_type": "code",
   "execution_count": 405,
   "id": "508c6ec4-5c4a-4230-a83f-deba76133281",
   "metadata": {},
   "outputs": [],
   "source": [
    "collected_08_23 = {\n",
    "    \"otodom_krk\" : \"../original_data/collected_08_23/master_data/otodom_krk.json\",\n",
    "    \"otodom_gda\" : \"../original_data/collected_08_23/master_data/otodom_gda.json\",\n",
    "    \"olx_gda\" : \"../original_data/collected_08_23/master_data/olx_gda.json\",\n",
    "    \"olx_krk\" : \"../original_data/collected_08_23/master_data/olx_krk.json\",\n",
    "    \"gratka_gda\" : \"../original_data/collected_08_23/master_data/gratka_gda.json\",\n",
    "    \"gratak_krk\" : \"../original_data/collected_08_23/master_data/gratka_krk.json\",\n",
    "    \"trojmiasto_gda\" : \"../original_data/collected_08_23/master_data/trojmiasto_gda.json\"\n",
    "}\n",
    "\n",
    "# Create a dictionary to store DataFrames\n",
    "dataframes_08_23 = {}\n",
    "\n",
    "# Iterate through the JSON data and create DataFrames\n",
    "for key, value in collected_08_23.items():\n",
    "    dataframes_08_23[key] = pd.read_json(value)  # Assuming the data is in JSON format\n",
    "\n",
    "# Now, you have a dictionary of DataFrames where each key is a dataset\n",
    "# You can access them like this:\n",
    "otodom_krk_df = dataframes_08_23[\"otodom_krk\"]\n",
    "otodom_gda_df = dataframes_08_23[\"otodom_gda\"]\n",
    "olx_gda_df = dataframes_08_23[\"olx_gda\"]\n",
    "olx_krk_df = dataframes_08_23[\"olx_krk\"]\n",
    "gratka_gda_df = dataframes_08_23[\"gratka_gda\"]\n",
    "gratak_krk_df = dataframes_08_23[\"gratak_krk\"]\n",
    "trojmiasto_gda_df = dataframes_08_23[\"trojmiasto_gda\"]"
   ]
  },
  {
   "cell_type": "code",
   "execution_count": 406,
   "id": "f76cc89a-1eba-463c-98c4-cf22214975e1",
   "metadata": {},
   "outputs": [],
   "source": [
    "df = olx_gda_df"
   ]
  },
  {
   "cell_type": "code",
   "execution_count": 407,
   "id": "1059df87-0c6b-418b-aa47-90f520de8d8b",
   "metadata": {},
   "outputs": [
    {
     "data": {
      "text/plain": [
       "rent                    0\n",
       "location                0\n",
       "username                0\n",
       "on_olx_since            0\n",
       "last_activity           0\n",
       "add_date                0\n",
       "title                   0\n",
       "link                    0\n",
       "description             0\n",
       "Prywatne               46\n",
       "Poziom                 12\n",
       "Umeblowane              0\n",
       "Rodzaj zabudowy         0\n",
       "Powierzchnia            0\n",
       "Liczba pokoi            0\n",
       "Czynsz (dodatkowo)      0\n",
       "Firmowe               328\n",
       "dtype: int64"
      ]
     },
     "execution_count": 407,
     "metadata": {},
     "output_type": "execute_result"
    }
   ],
   "source": [
    "olx_gda_df.isna().sum()"
   ]
  },
  {
   "cell_type": "code",
   "execution_count": 408,
   "id": "deb94656-953a-430a-87e4-db669ced4239",
   "metadata": {},
   "outputs": [],
   "source": [
    "olx_gda_districts_mapping = {\n",
    "    \"Śródmieście\": \"Srodmiescie - Stare Miasto - Dolne Miasto - Długie Ogrody\",\n",
    "    \"Przymorze Wielkie\": \"Przymorze\",\n",
    "    \"Brzeźno\": \"Brzezno\",\n",
    "    \"Przymorze Małe\": \"Przymorze\",\n",
    "    \"Wrzeszcz\": \"Wrzeszcz\",\n",
    "    \"Żabianka - Wejhera - Jelitkowo - Tysiąclecia\": \"Zabianka - Wejhera - Jelitkowo - Tysiaclecia\",\n",
    "    \"Chełm z dzielnicą Gdańsk Południe\": \"Chelm - Lostowice - Poludnie\",\n",
    "    \"Jasień\": \"Jasien - Matarnia - Kokoszki - Osowa\",\n",
    "    \"Ujeścisko - Łostowice\": \"Chelm - Lostowice - Poludnie\",\n",
    "    \"Letnica\": \"Letnica\",\n",
    "    \"Piecki-Migowo\": \"Piecki Migowo - Suchanino - Morena\",\n",
    "    \"Zaspa Młyniec\": \"Zaspa\",\n",
    "    \"Orunia - Św. Wojciech - Lipce\": \"Orunia\",\n",
    "    \"Zaspa Rozstaje\": \"Zaspa\",\n",
    "    \"Siedlce\": \"Siedlce - Aniolki - Mlyniska - Mickiewicza\",\n",
    "    \"Stogi z Przeróbką\": \"Przerobka - Stogi - Nowy Port\",\n",
    "    \"Oliwa\": \"Oliwa - Strzyza\",\n",
    "    \"Aniołki\": \"Siedlce - Aniolki - Mlyniska - Mickiewicza\",\n",
    "    \"Wzgórze Mickiewicza\": \"Siedlce - Aniolki - Mlyniska - Mickiewicza\",\n",
    "    \"Matarnia\": \"Jasien - Matarnia - Kokoszki - Osowa\",\n",
    "    \"Suchanino\": \"Piecki Migowo - Suchanino - Morena\",\n",
    "    \"Brętowo\": \"Piecki Migowo - Suchanino - Morena\",\n",
    "    \"Kokoszki\": \"Jasien - Matarnia - Kokoszki - Osowa\",\n",
    "    \"Strzyża\": \"Oliwa - Strzyza\",\n",
    "    \"Młyniska\": \"Siedlce - Aniolki - Mlyniska - Mickiewicza\"\n",
    "}\n",
    "\n",
    "olx_rooms_mapping = {\n",
    "    \"2pokoje\": 2,\n",
    "    \"kawalerka\": 1,\n",
    "    \"3pokoje\": 3, \n",
    "    \"4iwięcej\": 4,\n",
    "\n",
    "}\n",
    "\n",
    "olx_private_seller_mapping = {\n",
    "    1.0: True,\n",
    "    np.nan: False\n",
    "}\n",
    "\n",
    "olx_furnished_mapping = {\n",
    "    \"Tak\": True,\n",
    "}\n",
    "\n",
    "olx_level_mapping = {\n",
    "    \"powyżej10\": 1,\n",
    "    \"suterena\": 0,\n",
    "    \"parter\": 0,\n",
    "    \"1\":1, \"2\": 2, \"3\":3, \"4\":4, \"5\":5, \"6\":6, \"7\":7, \"8\":8, \"9\":9, \"10\":10\n",
    "}\n",
    "\n",
    "# olx_building_type_mapping = {\n",
    "#     \"Blok\": input(\"Mapping should be added\")\n",
    "#     \"Apartamentowiec\": \n",
    "#     \"Kamienica\": \n",
    "#     \"Dom wolnostojący\": \n",
    "#     \"Szeregowiec\": \n",
    "#     \"Loft\": \n",
    "# }"
   ]
  },
  {
   "cell_type": "code",
   "execution_count": 413,
   "id": "cc27c600-066c-43d0-b5a8-36bc668af525",
   "metadata": {},
   "outputs": [],
   "source": [
    "def convert_numeric_to_float(convertable_string):\n",
    "    return float(convertable_string.replace(\"zł\", \"\").replace(\" \", \"\").replace(\"\\ndonegocjacji\", \"\"))\n",
    "\n",
    "def clear_olx(df: pd.DataFrame, city = 'Gdansk'):\n",
    "    df.drop(\n",
    "        labels=[\n",
    "            'link', \n",
    "            'username', \n",
    "            'on_olx_since', \n",
    "            'last_activity',\n",
    "            'title',\n",
    "            'description',\n",
    "            'Firmowe',\n",
    "            'add_date',\n",
    "        ],\n",
    "        inplace= True,\n",
    "        axis= 1\n",
    "    )\n",
    "    \n",
    "    is_negotiable_list = []\n",
    "    is_furnished_list = []\n",
    "    \n",
    "    for index, row in df.iterrows():\n",
    "\n",
    "        # negotiable\n",
    "        if 'do negocjacji' in row['rent']:\n",
    "            is_negotiable_list.append(True)\n",
    "        else:\n",
    "            is_negotiable_list.append(False)\n",
    "\n",
    "        # furnished\n",
    "        if 'Tak' in row['Umeblowane']:\n",
    "            is_furnished_list.append(True)\n",
    "        else:\n",
    "            is_furnished_list.append(False)\n",
    "\n",
    "    # negotiable apply\n",
    "    df['negotiable'] = is_negotiable_list\n",
    "\n",
    "    # furnished apply\n",
    "    df = df.rename(mapper={\"Umeblowane\": \"furnished\"}, axis=1)\n",
    "    df['furnished'] = is_furnished_list\n",
    "    \n",
    "    # private_seller\n",
    "    df = df.rename(mapper={\"Prywatne\": \"private_seller\"}, axis=1)\n",
    "    df['private_seller'] = df['private_seller'].map(olx_private_seller_mapping)\n",
    "    \n",
    "    # negotiable apply\n",
    "    df['negotiable'] = is_negotiable_list\n",
    "    \n",
    "    # surface\n",
    "    df = df.rename(mapper={\"Powierzchnia\": \"surface\"}, axis=1)\n",
    "    df['surface'] = df['surface'].str.replace(\"m²\", \"\").str.replace(\" \", \"\").str.replace(\",\", \".\").astype(float)\n",
    "\n",
    "    # level \n",
    "    df = df.rename(mapper={\"Poziom\": \"level\"}, axis=1)\n",
    "    df['level'] = df['level'].str.replace(\" \", \"\").str.lower()\n",
    "    df['level'] = df['level'].map(olx_level_mapping)\n",
    "    df['level'].fillna(1001, inplace=True)\n",
    "    \n",
    "    # rooms \n",
    "    df = df.rename(mapper={\"Liczba pokoi\": \"rooms\"}, axis=1)\n",
    "    df['rooms'] = df['rooms'].str.replace(\" \", \"\").str.lower()\n",
    "    df['rooms'] = df['rooms'].map(olx_rooms_mapping)\n",
    "    df['rooms'] = df['rooms'].astype(int)\n",
    "    \n",
    "    # rent\n",
    "    df['rent'] = df['rent'].apply(convert_numeric_to_float)\n",
    "\n",
    "    # rent_extra\n",
    "    df = df.rename(mapper={\"Czynsz (dodatkowo)\": \"rent_extra\"}, axis=1)\n",
    "    df['rent_extra'] = df['rent_extra'].apply(convert_numeric_to_float)\n",
    "\n",
    "    # location\n",
    "    df['location'] = df['location'].map(olx_gda_districts_mapping)\n",
    "\n",
    "    return df"
   ]
  },
  {
   "cell_type": "code",
   "execution_count": 414,
   "id": "25221885-8db8-4557-b575-7201d44e6426",
   "metadata": {},
   "outputs": [],
   "source": [
    "olx_gda_df = clear_olx(olx_gda_df)"
   ]
  },
  {
   "cell_type": "code",
   "execution_count": 415,
   "id": "d8a8ad0d-3d1a-4957-b0eb-76389ee33c7b",
   "metadata": {},
   "outputs": [
    {
     "name": "stdout",
     "output_type": "stream",
     "text": [
      "<class 'pandas.core.frame.DataFrame'>\n",
      "RangeIndex: 374 entries, 0 to 373\n",
      "Data columns (total 10 columns):\n",
      " #   Column           Non-Null Count  Dtype  \n",
      "---  ------           --------------  -----  \n",
      " 0   rent             374 non-null    float64\n",
      " 1   location         374 non-null    object \n",
      " 2   private_seller   374 non-null    bool   \n",
      " 3   level            374 non-null    float64\n",
      " 4   furnished        374 non-null    bool   \n",
      " 5   Rodzaj zabudowy  374 non-null    object \n",
      " 6   surface          374 non-null    float64\n",
      " 7   rooms            374 non-null    int64  \n",
      " 8   rent_extra       374 non-null    float64\n",
      " 9   negotiable       374 non-null    bool   \n",
      "dtypes: bool(3), float64(4), int64(1), object(2)\n",
      "memory usage: 21.7+ KB\n"
     ]
    }
   ],
   "source": [
    "olx_gda_df.info()"
   ]
  }
 ],
 "metadata": {
  "kernelspec": {
   "display_name": "Python 3 (ipykernel)",
   "language": "python",
   "name": "python3"
  },
  "language_info": {
   "codemirror_mode": {
    "name": "ipython",
    "version": 3
   },
   "file_extension": ".py",
   "mimetype": "text/x-python",
   "name": "python",
   "nbconvert_exporter": "python",
   "pygments_lexer": "ipython3",
   "version": "3.10.10"
  }
 },
 "nbformat": 4,
 "nbformat_minor": 5
}
