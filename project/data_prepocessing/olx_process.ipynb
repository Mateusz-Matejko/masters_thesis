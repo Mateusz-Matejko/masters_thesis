{
 "cells": [
  {
   "cell_type": "code",
   "execution_count": 155,
   "id": "bb2cc1bc-93af-470a-855d-28a068cbb40e",
   "metadata": {},
   "outputs": [],
   "source": [
    "import pandas as pd\n",
    "import numpy as np\n",
    "import re"
   ]
  },
  {
   "cell_type": "code",
   "execution_count": 156,
   "id": "08122690-371c-4923-89a4-5792f2118a91",
   "metadata": {},
   "outputs": [],
   "source": [
    "# pd.set_option('display.max_colwidth', None)"
   ]
  },
  {
   "cell_type": "code",
   "execution_count": 157,
   "id": "fae04109-d2a1-45c7-b349-4f067798d64b",
   "metadata": {},
   "outputs": [],
   "source": [
    "pd.reset_option('display.max_colwidth')"
   ]
  },
  {
   "cell_type": "code",
   "execution_count": 158,
   "id": "508c6ec4-5c4a-4230-a83f-deba76133281",
   "metadata": {},
   "outputs": [],
   "source": [
    "collected_08_23 = {\n",
    "    \"otodom_krk\" : \"../original_data/collected_08_23/master_data/otodom_krk.json\",\n",
    "    \"otodom_gda\" : \"../original_data/collected_08_23/master_data/otodom_gda.json\",\n",
    "    \"olx_gda\" : \"../original_data/collected_08_23/master_data/olx_gda.json\",\n",
    "    \"olx_krk\" : \"../original_data/collected_08_23/master_data/olx_krk.json\",\n",
    "    \"gratka_gda\" : \"../original_data/collected_08_23/master_data/gratka_gda.json\",\n",
    "    \"gratak_krk\" : \"../original_data/collected_08_23/master_data/gratka_krk.json\",\n",
    "    \"trojmiasto_gda\" : \"../original_data/collected_08_23/master_data/trojmiasto_gda.json\"\n",
    "}\n",
    "\n",
    "# Create a dictionary to store DataFrames\n",
    "dataframes_08_23 = {}\n",
    "\n",
    "# Iterate through the JSON data and create DataFrames\n",
    "for key, value in collected_08_23.items():\n",
    "    dataframes_08_23[key] = pd.read_json(value)  # Assuming the data is in JSON format\n",
    "\n",
    "# Now, you have a dictionary of DataFrames where each key is a dataset\n",
    "# You can access them like this:\n",
    "otodom_krk_df = dataframes_08_23[\"otodom_krk\"]\n",
    "otodom_gda_df = dataframes_08_23[\"otodom_gda\"]\n",
    "olx_gda_df = dataframes_08_23[\"olx_gda\"]\n",
    "olx_krk_df = dataframes_08_23[\"olx_krk\"]\n",
    "gratka_gda_df = dataframes_08_23[\"gratka_gda\"]\n",
    "gratak_krk_df = dataframes_08_23[\"gratak_krk\"]\n",
    "trojmiasto_gda_df = dataframes_08_23[\"trojmiasto_gda\"]"
   ]
  },
  {
   "cell_type": "code",
   "execution_count": 159,
   "id": "f76cc89a-1eba-463c-98c4-cf22214975e1",
   "metadata": {},
   "outputs": [],
   "source": [
    "df = olx_gda_df"
   ]
  },
  {
   "cell_type": "code",
   "execution_count": 160,
   "id": "deb94656-953a-430a-87e4-db669ced4239",
   "metadata": {},
   "outputs": [],
   "source": [
    "olx_gda_districts_mapping = {\n",
    "    \"Śródmieście\": \"Srodmiescie - Stare Miasto - Dolne Miasto - Długie Ogrody\",\n",
    "    \"Przymorze Wielkie\": \"Przymorze\",\n",
    "    \"Brzeźno\": \"Brzezno\",\n",
    "    \"Przymorze Małe\": \"Przymorze\",\n",
    "    \"Wrzeszcz\": \"Wrzeszcz\",\n",
    "    \"Żabianka - Wejhera - Jelitkowo - Tysiąclecia\": \"Zabianka - Wejhera - Jelitkowo - Tysiaclecia\",\n",
    "    \"Chełm z dzielnicą Gdańsk Południe\": \"Chelm - Lostowice - Poludnie\",\n",
    "    \"Jasień\": \"Jasien - Matarnia - Kokoszki - Osowa\",\n",
    "    \"Ujeścisko - Łostowice\": \"Chelm - Lostowice - Poludnie\",\n",
    "    \"Letnica\": \"Letnica\",\n",
    "    \"Piecki-Migowo\": \"Piecki Migowo - Suchanino - Morena\",\n",
    "    \"Zaspa Młyniec\": \"Zaspa\",\n",
    "    \"Orunia - Św. Wojciech - Lipce\": \"Orunia\",\n",
    "    \"Zaspa Rozstaje\": \"Zaspa\",\n",
    "    \"Siedlce\": \"Siedlce - Aniolki - Mlyniska - Mickiewicza\",\n",
    "    \"Stogi z Przeróbką\": \"Przerobka - Stogi - Nowy Port\",\n",
    "    \"Oliwa\": \"Oliwa - Strzyza\",\n",
    "    \"Aniołki\": \"Siedlce - Aniolki - Mlyniska - Mickiewicza\",\n",
    "    \"Wzgórze Mickiewicza\": \"Siedlce - Aniolki - Mlyniska - Mickiewicza\",\n",
    "    \"Matarnia\": \"Jasien - Matarnia - Kokoszki - Osowa\",\n",
    "    \"Suchanino\": \"Piecki Migowo - Suchanino - Morena\",\n",
    "    \"Brętowo\": \"Piecki Migowo - Suchanino - Morena\",\n",
    "    \"Kokoszki\": \"Jasien - Matarnia - Kokoszki - Osowa\",\n",
    "    \"Strzyża\": \"Oliwa - Strzyza\",\n",
    "    \"Młyniska\": \"Siedlce - Aniolki - Mlyniska - Mickiewicza\"\n",
    "}\n",
    "\n",
    "olx_rooms_mapping = {\n",
    "    \"2pokoje\": 2,\n",
    "    \"kawalerka\": 1,\n",
    "    \"3pokoje\": 3, \n",
    "    \"4iwięcej\": 4,\n",
    "\n",
    "}\n",
    "\n",
    "olx_private_seller_mapping = {\n",
    "    1.0: True,\n",
    "    np.nan: False\n",
    "}\n",
    "\n",
    "olx_furnished_mapping = {\n",
    "    \"Tak\": True,\n",
    "}\n",
    "\n",
    "olx_level_mapping = {\n",
    "    \"powyżej10\": 11,\n",
    "    \"suterena\": 0,\n",
    "    \"parter\": 0,\n",
    "    \"1\":1, \"2\": 2, \"3\":3, \"4\":4, \"5\":5, \"6\":6, \"7\":7, \"8\":8, \"9\":9, \"10\":10\n",
    "}\n",
    "\n",
    "olx_building_type_mapping = {\n",
    "    \"blok\": \"unit\",\n",
    "    \"apartamentowiec\": \"apartment_building\",\n",
    "    \"kamienica\": \"tenement\",\n",
    "    \"dom wolnostojący\": \"house\",\n",
    "    \"szeregowiec\": \"house\",\n",
    "    \"loft\": \"loft\"\n",
    "}"
   ]
  },
  {
   "cell_type": "code",
   "execution_count": 161,
   "id": "cc27c600-066c-43d0-b5a8-36bc668af525",
   "metadata": {},
   "outputs": [],
   "source": [
    "def convert_numeric_to_float(convertable_string):\n",
    "    return float(convertable_string.replace(\"zł\", \"\").replace(\" \", \"\").replace(\",\",\".\").replace(\"\\ndonegocjacji\", \"\"))\n",
    "\n",
    "def clear_olx(df: pd.DataFrame, city):\n",
    "    df.drop(\n",
    "        labels=[\n",
    "            'link', \n",
    "            'username', \n",
    "            'on_olx_since', \n",
    "            'last_activity',\n",
    "            'title',\n",
    "            'description',\n",
    "            'Firmowe',\n",
    "            'add_date',\n",
    "        ],\n",
    "        inplace= True,\n",
    "        axis= 1\n",
    "    )\n",
    "    \n",
    "    is_negotiable_list = []\n",
    "    is_furnished_list = []\n",
    "    \n",
    "    for index, row in df.iterrows():\n",
    "\n",
    "        # negotiable\n",
    "        if 'do negocjacji' in row['rent']:\n",
    "            is_negotiable_list.append(True)\n",
    "        else:\n",
    "            is_negotiable_list.append(False)\n",
    "\n",
    "        # furnished\n",
    "        if 'Tak' in row['Umeblowane']:\n",
    "            is_furnished_list.append(True)\n",
    "        else:\n",
    "            is_furnished_list.append(False)\n",
    "\n",
    "    # negotiable apply\n",
    "    df['negotiable'] = is_negotiable_list\n",
    "\n",
    "    # building_type\n",
    "    df = df.rename(mapper={\"Rodzaj zabudowy\": \"building_type\"}, axis=1)\n",
    "    df[\"building_type\"] = df[\"building_type\"].str.replace(\" \", \"\").str.lower()\n",
    "    df[\"building_type\"] = df[\"building_type\"].map(olx_building_type_mapping)\n",
    "    df.drop(df[\"building_type\"] == \"loft\", axis=0)\n",
    "    \n",
    "    # furnished apply\n",
    "    df = df.rename(mapper={\"Umeblowane\": \"furnished\"}, axis=1)\n",
    "    df['furnished'] = is_furnished_list\n",
    "    \n",
    "    # private_seller\n",
    "    df = df.rename(mapper={\"Prywatne\": \"private_seller\"}, axis=1)\n",
    "    df['private_seller'] = df['private_seller'].map(olx_private_seller_mapping)\n",
    "    \n",
    "    # negotiable apply\n",
    "    df['negotiable'] = is_negotiable_list\n",
    "    \n",
    "    # surface\n",
    "    df = df.rename(mapper={\"Powierzchnia\": \"surface\"}, axis=1)\n",
    "    df['surface'] = df['surface'].str.replace(\"m²\", \"\").str.replace(\" \", \"\").str.replace(\",\", \".\").astype(float)\n",
    "\n",
    "    # level \n",
    "    df = df.rename(mapper={\"Poziom\": \"level\"}, axis=1)\n",
    "    df['level'] = df['level'].str.replace(\" \", \"\").str.lower()\n",
    "    df['level'] = df['level'].map(olx_level_mapping)\n",
    "    df['level'].fillna(1001, inplace=True)\n",
    "    \n",
    "    # rooms \n",
    "    df = df.rename(mapper={\"Liczba pokoi\": \"rooms\"}, axis=1)\n",
    "    df['rooms'] = df['rooms'].str.replace(\" \", \"\").str.lower()\n",
    "    df['rooms'] = df['rooms'].map(olx_rooms_mapping)\n",
    "    df['rooms'] = df['rooms'].astype(int)\n",
    "    \n",
    "    # rent\n",
    "    df['rent'] = df['rent'].apply(convert_numeric_to_float)\n",
    "\n",
    "    # rent_extra\n",
    "    df = df.rename(mapper={\"Czynsz (dodatkowo)\": \"rent_extra\"}, axis=1)\n",
    "    df['rent_extra'] = df['rent_extra'].apply(convert_numeric_to_float)\n",
    "\n",
    "    # location\n",
    "    if city.lower() == \"gda\":\n",
    "        df['location'] = df['location'].map(olx_gda_districts_mapping)\n",
    "    elif city.lower() == \"krk\":\n",
    "        pass\n",
    "        # df['location'] = df['location'].map(olx_krk_districts_mapping)\n",
    "\n",
    "    return df"
   ]
  },
  {
   "cell_type": "code",
   "execution_count": 162,
   "id": "25221885-8db8-4557-b575-7201d44e6426",
   "metadata": {},
   "outputs": [
    {
     "ename": "KeyError",
     "evalue": "'[False, False, False, False, False, False, False, False, False, False, False, False, False, False, False, False, False, False, False, False, False, False, False, False, False, False, False, False, False, False, False, False, False, False, False, False, False, False, False, False, False, False, False, False, False, False, False, False, False, False, False, False, False, False, False, False, False, False, False, False, False, False, False, False, False, False, False, False, False, False, False, False, False, False, False, False, False, False, False, False, False, False, False, False, False, False, False, False, False, False, False, False, False, False, False, False, False, False, False, False, False, False, False, False, False, False, False, False, False, False, False, False, False, False, False, False, False, False, False, False, False, False, False, False, False, False, False, False, False, False, False, False, False, False, False, False, False, False, False, False, False, False, False, False, False, False, False, False, False, False, False, False, False, False, False, False, False, False, False, False, False, False, False, False, False, False, False, False, False, False, False, False, False, False, False, False, False, False, False, False, False, False, False, False, False, False, False, False, False, False, False, False, False, False, False, False, False, False, False, False, False, False, False, False, False, False, False, False, False, False, False, False, False, False, False, False, False, False, False, False, False, False, False, False, False, False, False, False, False, False, False, False, False, False, False, False, False, False, False, False, False, False, False, False, False, False, False, False, False, False, False, False, False, False, False, False, False, False, False, False, False, False, False, False, True, False, False, False, False, False, False, False, False, False, False, False, False, False, False, False, False, False, False, False, False, False, False, False, False, False, False, False, False, False, False, False, False, False, False, False, False, False, False, False, False, False, False, False, False, False, False, False, False, False, False, False, False, False, False, False, False, False, False, False, False, False, False, False, False, False, False, False, False, False, False, False, False, False, False, False, False, False, False, False, False, False, False, False, False, False, False, False, False, False, False, False, False, False, False, False, False, False, False, False, False, False, False, False, False, False, False, False, False, False] not found in axis'",
     "output_type": "error",
     "traceback": [
      "\u001b[0;31m---------------------------------------------------------------------------\u001b[0m",
      "\u001b[0;31mKeyError\u001b[0m                                  Traceback (most recent call last)",
      "Cell \u001b[0;32mIn[162], line 1\u001b[0m\n\u001b[0;32m----> 1\u001b[0m df \u001b[38;5;241m=\u001b[39m \u001b[43mclear_olx\u001b[49m\u001b[43m(\u001b[49m\u001b[43mdf\u001b[49m\u001b[43m,\u001b[49m\u001b[43m \u001b[49m\u001b[43mcity\u001b[49m\u001b[38;5;241;43m=\u001b[39;49m\u001b[38;5;124;43m\"\u001b[39;49m\u001b[38;5;124;43mgda\u001b[39;49m\u001b[38;5;124;43m\"\u001b[39;49m\u001b[43m)\u001b[49m\n",
      "Cell \u001b[0;32mIn[161], line 44\u001b[0m, in \u001b[0;36mclear_olx\u001b[0;34m(df, city)\u001b[0m\n\u001b[1;32m     42\u001b[0m df[\u001b[38;5;124m\"\u001b[39m\u001b[38;5;124mbuilding_type\u001b[39m\u001b[38;5;124m\"\u001b[39m] \u001b[38;5;241m=\u001b[39m df[\u001b[38;5;124m\"\u001b[39m\u001b[38;5;124mbuilding_type\u001b[39m\u001b[38;5;124m\"\u001b[39m]\u001b[38;5;241m.\u001b[39mstr\u001b[38;5;241m.\u001b[39mreplace(\u001b[38;5;124m\"\u001b[39m\u001b[38;5;124m \u001b[39m\u001b[38;5;124m\"\u001b[39m, \u001b[38;5;124m\"\u001b[39m\u001b[38;5;124m\"\u001b[39m)\u001b[38;5;241m.\u001b[39mstr\u001b[38;5;241m.\u001b[39mlower()\n\u001b[1;32m     43\u001b[0m df[\u001b[38;5;124m\"\u001b[39m\u001b[38;5;124mbuilding_type\u001b[39m\u001b[38;5;124m\"\u001b[39m] \u001b[38;5;241m=\u001b[39m df[\u001b[38;5;124m\"\u001b[39m\u001b[38;5;124mbuilding_type\u001b[39m\u001b[38;5;124m\"\u001b[39m]\u001b[38;5;241m.\u001b[39mmap(olx_building_type_mapping)\n\u001b[0;32m---> 44\u001b[0m \u001b[43mdf\u001b[49m\u001b[38;5;241;43m.\u001b[39;49m\u001b[43mdrop\u001b[49m\u001b[43m(\u001b[49m\u001b[43mdf\u001b[49m\u001b[43m[\u001b[49m\u001b[38;5;124;43m\"\u001b[39;49m\u001b[38;5;124;43mbuilding_type\u001b[39;49m\u001b[38;5;124;43m\"\u001b[39;49m\u001b[43m]\u001b[49m\u001b[43m \u001b[49m\u001b[38;5;241;43m==\u001b[39;49m\u001b[43m \u001b[49m\u001b[38;5;124;43m\"\u001b[39;49m\u001b[38;5;124;43mloft\u001b[39;49m\u001b[38;5;124;43m\"\u001b[39;49m\u001b[43m,\u001b[49m\u001b[43m \u001b[49m\u001b[43maxis\u001b[49m\u001b[38;5;241;43m=\u001b[39;49m\u001b[38;5;241;43m0\u001b[39;49m\u001b[43m)\u001b[49m\n\u001b[1;32m     46\u001b[0m \u001b[38;5;66;03m# furnished apply\u001b[39;00m\n\u001b[1;32m     47\u001b[0m df \u001b[38;5;241m=\u001b[39m df\u001b[38;5;241m.\u001b[39mrename(mapper\u001b[38;5;241m=\u001b[39m{\u001b[38;5;124m\"\u001b[39m\u001b[38;5;124mUmeblowane\u001b[39m\u001b[38;5;124m\"\u001b[39m: \u001b[38;5;124m\"\u001b[39m\u001b[38;5;124mfurnished\u001b[39m\u001b[38;5;124m\"\u001b[39m}, axis\u001b[38;5;241m=\u001b[39m\u001b[38;5;241m1\u001b[39m)\n",
      "File \u001b[0;32m~/Documents/Code/masters_thesis/venv/lib/python3.10/site-packages/pandas/core/frame.py:5258\u001b[0m, in \u001b[0;36mDataFrame.drop\u001b[0;34m(self, labels, axis, index, columns, level, inplace, errors)\u001b[0m\n\u001b[1;32m   5110\u001b[0m \u001b[38;5;28;01mdef\u001b[39;00m \u001b[38;5;21mdrop\u001b[39m(\n\u001b[1;32m   5111\u001b[0m     \u001b[38;5;28mself\u001b[39m,\n\u001b[1;32m   5112\u001b[0m     labels: IndexLabel \u001b[38;5;241m=\u001b[39m \u001b[38;5;28;01mNone\u001b[39;00m,\n\u001b[0;32m   (...)\u001b[0m\n\u001b[1;32m   5119\u001b[0m     errors: IgnoreRaise \u001b[38;5;241m=\u001b[39m \u001b[38;5;124m\"\u001b[39m\u001b[38;5;124mraise\u001b[39m\u001b[38;5;124m\"\u001b[39m,\n\u001b[1;32m   5120\u001b[0m ) \u001b[38;5;241m-\u001b[39m\u001b[38;5;241m>\u001b[39m DataFrame \u001b[38;5;241m|\u001b[39m \u001b[38;5;28;01mNone\u001b[39;00m:\n\u001b[1;32m   5121\u001b[0m \u001b[38;5;250m    \u001b[39m\u001b[38;5;124;03m\"\"\"\u001b[39;00m\n\u001b[1;32m   5122\u001b[0m \u001b[38;5;124;03m    Drop specified labels from rows or columns.\u001b[39;00m\n\u001b[1;32m   5123\u001b[0m \n\u001b[0;32m   (...)\u001b[0m\n\u001b[1;32m   5256\u001b[0m \u001b[38;5;124;03m            weight  1.0     0.8\u001b[39;00m\n\u001b[1;32m   5257\u001b[0m \u001b[38;5;124;03m    \"\"\"\u001b[39;00m\n\u001b[0;32m-> 5258\u001b[0m     \u001b[38;5;28;01mreturn\u001b[39;00m \u001b[38;5;28;43msuper\u001b[39;49m\u001b[43m(\u001b[49m\u001b[43m)\u001b[49m\u001b[38;5;241;43m.\u001b[39;49m\u001b[43mdrop\u001b[49m\u001b[43m(\u001b[49m\n\u001b[1;32m   5259\u001b[0m \u001b[43m        \u001b[49m\u001b[43mlabels\u001b[49m\u001b[38;5;241;43m=\u001b[39;49m\u001b[43mlabels\u001b[49m\u001b[43m,\u001b[49m\n\u001b[1;32m   5260\u001b[0m \u001b[43m        \u001b[49m\u001b[43maxis\u001b[49m\u001b[38;5;241;43m=\u001b[39;49m\u001b[43maxis\u001b[49m\u001b[43m,\u001b[49m\n\u001b[1;32m   5261\u001b[0m \u001b[43m        \u001b[49m\u001b[43mindex\u001b[49m\u001b[38;5;241;43m=\u001b[39;49m\u001b[43mindex\u001b[49m\u001b[43m,\u001b[49m\n\u001b[1;32m   5262\u001b[0m \u001b[43m        \u001b[49m\u001b[43mcolumns\u001b[49m\u001b[38;5;241;43m=\u001b[39;49m\u001b[43mcolumns\u001b[49m\u001b[43m,\u001b[49m\n\u001b[1;32m   5263\u001b[0m \u001b[43m        \u001b[49m\u001b[43mlevel\u001b[49m\u001b[38;5;241;43m=\u001b[39;49m\u001b[43mlevel\u001b[49m\u001b[43m,\u001b[49m\n\u001b[1;32m   5264\u001b[0m \u001b[43m        \u001b[49m\u001b[43minplace\u001b[49m\u001b[38;5;241;43m=\u001b[39;49m\u001b[43minplace\u001b[49m\u001b[43m,\u001b[49m\n\u001b[1;32m   5265\u001b[0m \u001b[43m        \u001b[49m\u001b[43merrors\u001b[49m\u001b[38;5;241;43m=\u001b[39;49m\u001b[43merrors\u001b[49m\u001b[43m,\u001b[49m\n\u001b[1;32m   5266\u001b[0m \u001b[43m    \u001b[49m\u001b[43m)\u001b[49m\n",
      "File \u001b[0;32m~/Documents/Code/masters_thesis/venv/lib/python3.10/site-packages/pandas/core/generic.py:4549\u001b[0m, in \u001b[0;36mNDFrame.drop\u001b[0;34m(self, labels, axis, index, columns, level, inplace, errors)\u001b[0m\n\u001b[1;32m   4547\u001b[0m \u001b[38;5;28;01mfor\u001b[39;00m axis, labels \u001b[38;5;129;01min\u001b[39;00m axes\u001b[38;5;241m.\u001b[39mitems():\n\u001b[1;32m   4548\u001b[0m     \u001b[38;5;28;01mif\u001b[39;00m labels \u001b[38;5;129;01mis\u001b[39;00m \u001b[38;5;129;01mnot\u001b[39;00m \u001b[38;5;28;01mNone\u001b[39;00m:\n\u001b[0;32m-> 4549\u001b[0m         obj \u001b[38;5;241m=\u001b[39m \u001b[43mobj\u001b[49m\u001b[38;5;241;43m.\u001b[39;49m\u001b[43m_drop_axis\u001b[49m\u001b[43m(\u001b[49m\u001b[43mlabels\u001b[49m\u001b[43m,\u001b[49m\u001b[43m \u001b[49m\u001b[43maxis\u001b[49m\u001b[43m,\u001b[49m\u001b[43m \u001b[49m\u001b[43mlevel\u001b[49m\u001b[38;5;241;43m=\u001b[39;49m\u001b[43mlevel\u001b[49m\u001b[43m,\u001b[49m\u001b[43m \u001b[49m\u001b[43merrors\u001b[49m\u001b[38;5;241;43m=\u001b[39;49m\u001b[43merrors\u001b[49m\u001b[43m)\u001b[49m\n\u001b[1;32m   4551\u001b[0m \u001b[38;5;28;01mif\u001b[39;00m inplace:\n\u001b[1;32m   4552\u001b[0m     \u001b[38;5;28mself\u001b[39m\u001b[38;5;241m.\u001b[39m_update_inplace(obj)\n",
      "File \u001b[0;32m~/Documents/Code/masters_thesis/venv/lib/python3.10/site-packages/pandas/core/generic.py:4591\u001b[0m, in \u001b[0;36mNDFrame._drop_axis\u001b[0;34m(self, labels, axis, level, errors, only_slice)\u001b[0m\n\u001b[1;32m   4589\u001b[0m         new_axis \u001b[38;5;241m=\u001b[39m axis\u001b[38;5;241m.\u001b[39mdrop(labels, level\u001b[38;5;241m=\u001b[39mlevel, errors\u001b[38;5;241m=\u001b[39merrors)\n\u001b[1;32m   4590\u001b[0m     \u001b[38;5;28;01melse\u001b[39;00m:\n\u001b[0;32m-> 4591\u001b[0m         new_axis \u001b[38;5;241m=\u001b[39m \u001b[43maxis\u001b[49m\u001b[38;5;241;43m.\u001b[39;49m\u001b[43mdrop\u001b[49m\u001b[43m(\u001b[49m\u001b[43mlabels\u001b[49m\u001b[43m,\u001b[49m\u001b[43m \u001b[49m\u001b[43merrors\u001b[49m\u001b[38;5;241;43m=\u001b[39;49m\u001b[43merrors\u001b[49m\u001b[43m)\u001b[49m\n\u001b[1;32m   4592\u001b[0m     indexer \u001b[38;5;241m=\u001b[39m axis\u001b[38;5;241m.\u001b[39mget_indexer(new_axis)\n\u001b[1;32m   4594\u001b[0m \u001b[38;5;66;03m# Case for non-unique axis\u001b[39;00m\n\u001b[1;32m   4595\u001b[0m \u001b[38;5;28;01melse\u001b[39;00m:\n",
      "File \u001b[0;32m~/Documents/Code/masters_thesis/venv/lib/python3.10/site-packages/pandas/core/indexes/base.py:6699\u001b[0m, in \u001b[0;36mIndex.drop\u001b[0;34m(self, labels, errors)\u001b[0m\n\u001b[1;32m   6697\u001b[0m \u001b[38;5;28;01mif\u001b[39;00m mask\u001b[38;5;241m.\u001b[39many():\n\u001b[1;32m   6698\u001b[0m     \u001b[38;5;28;01mif\u001b[39;00m errors \u001b[38;5;241m!=\u001b[39m \u001b[38;5;124m\"\u001b[39m\u001b[38;5;124mignore\u001b[39m\u001b[38;5;124m\"\u001b[39m:\n\u001b[0;32m-> 6699\u001b[0m         \u001b[38;5;28;01mraise\u001b[39;00m \u001b[38;5;167;01mKeyError\u001b[39;00m(\u001b[38;5;124mf\u001b[39m\u001b[38;5;124m\"\u001b[39m\u001b[38;5;132;01m{\u001b[39;00m\u001b[38;5;28mlist\u001b[39m(labels[mask])\u001b[38;5;132;01m}\u001b[39;00m\u001b[38;5;124m not found in axis\u001b[39m\u001b[38;5;124m\"\u001b[39m)\n\u001b[1;32m   6700\u001b[0m     indexer \u001b[38;5;241m=\u001b[39m indexer[\u001b[38;5;241m~\u001b[39mmask]\n\u001b[1;32m   6701\u001b[0m \u001b[38;5;28;01mreturn\u001b[39;00m \u001b[38;5;28mself\u001b[39m\u001b[38;5;241m.\u001b[39mdelete(indexer)\n",
      "\u001b[0;31mKeyError\u001b[0m: '[False, False, False, False, False, False, False, False, False, False, False, False, False, False, False, False, False, False, False, False, False, False, False, False, False, False, False, False, False, False, False, False, False, False, False, False, False, False, False, False, False, False, False, False, False, False, False, False, False, False, False, False, False, False, False, False, False, False, False, False, False, False, False, False, False, False, False, False, False, False, False, False, False, False, False, False, False, False, False, False, False, False, False, False, False, False, False, False, False, False, False, False, False, False, False, False, False, False, False, False, False, False, False, False, False, False, False, False, False, False, False, False, False, False, False, False, False, False, False, False, False, False, False, False, False, False, False, False, False, False, False, False, False, False, False, False, False, False, False, False, False, False, False, False, False, False, False, False, False, False, False, False, False, False, False, False, False, False, False, False, False, False, False, False, False, False, False, False, False, False, False, False, False, False, False, False, False, False, False, False, False, False, False, False, False, False, False, False, False, False, False, False, False, False, False, False, False, False, False, False, False, False, False, False, False, False, False, False, False, False, False, False, False, False, False, False, False, False, False, False, False, False, False, False, False, False, False, False, False, False, False, False, False, False, False, False, False, False, False, False, False, False, False, False, False, False, False, False, False, False, False, False, False, False, False, False, False, False, False, False, False, False, False, False, True, False, False, False, False, False, False, False, False, False, False, False, False, False, False, False, False, False, False, False, False, False, False, False, False, False, False, False, False, False, False, False, False, False, False, False, False, False, False, False, False, False, False, False, False, False, False, False, False, False, False, False, False, False, False, False, False, False, False, False, False, False, False, False, False, False, False, False, False, False, False, False, False, False, False, False, False, False, False, False, False, False, False, False, False, False, False, False, False, False, False, False, False, False, False, False, False, False, False, False, False, False, False, False, False, False, False, False, False, False] not found in axis'"
     ]
    }
   ],
   "source": [
    "df = clear_olx(df, city=\"gda\")"
   ]
  },
  {
   "cell_type": "code",
   "execution_count": null,
   "id": "d8a8ad0d-3d1a-4957-b0eb-76389ee33c7b",
   "metadata": {},
   "outputs": [],
   "source": [
    "df.info()"
   ]
  },
  {
   "cell_type": "code",
   "execution_count": null,
   "id": "04829be9-3bbf-429b-951c-0897918941d7",
   "metadata": {},
   "outputs": [],
   "source": [
    "df.head()"
   ]
  },
  {
   "cell_type": "code",
   "execution_count": null,
   "id": "3096ae2a",
   "metadata": {},
   "outputs": [],
   "source": [
    "df.shape"
   ]
  },
  {
   "cell_type": "code",
   "execution_count": null,
   "id": "8efe5647",
   "metadata": {},
   "outputs": [],
   "source": [
    "df.isna().sum()"
   ]
  },
  {
   "cell_type": "code",
   "execution_count": null,
   "id": "abfc9449",
   "metadata": {},
   "outputs": [],
   "source": [
    "df[\"building_type\"]"
   ]
  },
  {
   "cell_type": "code",
   "execution_count": null,
   "id": "b404a960",
   "metadata": {},
   "outputs": [],
   "source": [
    "df[\"building_type\"].value_counts()"
   ]
  },
  {
   "cell_type": "code",
   "execution_count": null,
   "id": "44538981",
   "metadata": {},
   "outputs": [],
   "source": []
  }
 ],
 "metadata": {
  "kernelspec": {
   "display_name": "Python 3 (ipykernel)",
   "language": "python",
   "name": "python3"
  },
  "language_info": {
   "codemirror_mode": {
    "name": "ipython",
    "version": 3
   },
   "file_extension": ".py",
   "mimetype": "text/x-python",
   "name": "python",
   "nbconvert_exporter": "python",
   "pygments_lexer": "ipython3",
   "version": "3.10.10"
  }
 },
 "nbformat": 4,
 "nbformat_minor": 5
}
