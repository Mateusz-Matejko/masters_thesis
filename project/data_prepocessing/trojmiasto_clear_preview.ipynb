{
 "cells": [
  {
   "cell_type": "code",
   "execution_count": 1,
   "id": "b0bd3306-d619-4027-8360-f8091050d54f",
   "metadata": {},
   "outputs": [],
   "source": [
    "import pandas as pd\n",
    "import numpy as np\n",
    "import re"
   ]
  },
  {
   "cell_type": "code",
   "execution_count": 2,
   "id": "2c7932fc-801c-41be-9c3d-6818b913cfc3",
   "metadata": {},
   "outputs": [],
   "source": [
    "# pd.set_option('display.max_colwidth', None)"
   ]
  },
  {
   "cell_type": "code",
   "execution_count": 3,
   "id": "eacfaa42-0720-4dc4-91f4-bb56d15a45d7",
   "metadata": {},
   "outputs": [],
   "source": [
    "pd.reset_option('display.max_colwidth')"
   ]
  },
  {
   "cell_type": "code",
   "execution_count": 4,
   "id": "7e6c37a4-b5be-492e-a059-2e6fc6545176",
   "metadata": {},
   "outputs": [],
   "source": [
    "collected_08_23 = {\n",
    "    \"otodom_krk\" : \"../original_data/collected_08_23/master_data/otodom_krk.json\",\n",
    "    \"otodom_gda\" : \"../original_data/collected_08_23/master_data/otodom_gda.json\",\n",
    "    \"olx_gda\" : \"../original_data/collected_08_23/master_data/olx_gda.json\",\n",
    "    \"olx_krk\" : \"../original_data/collected_08_23/master_data/olx_krk.json\",\n",
    "    \"gratka_gda\" : \"../original_data/collected_08_23/master_data/gratka_gda.json\",\n",
    "    \"gratak_krk\" : \"../original_data/collected_08_23/master_data/gratka_krk.json\",\n",
    "    \"trojmiasto_gda\" : \"../original_data/collected_08_23/master_data/trojmiasto_gda.json\"\n",
    "}"
   ]
  },
  {
   "cell_type": "code",
   "execution_count": 5,
   "id": "e796288a-6144-4c25-9a67-d5639086f2e1",
   "metadata": {},
   "outputs": [],
   "source": [
    "# Create a dictionary to store DataFrames\n",
    "dataframes_08_23 = {}\n",
    "\n",
    "# Iterate through the JSON data and create DataFrames\n",
    "for key, value in collected_08_23.items():\n",
    "    dataframes_08_23[key] = pd.read_json(value)  # Assuming the data is in JSON format\n",
    "\n",
    "# Now, you have a dictionary of DataFrames where each key is a dataset\n",
    "# You can access them like this:\n",
    "otodom_krk_df = dataframes_08_23[\"otodom_krk\"]\n",
    "otodom_gda_df = dataframes_08_23[\"otodom_gda\"]\n",
    "olx_gda_df = dataframes_08_23[\"olx_gda\"]\n",
    "olx_krk_df = dataframes_08_23[\"olx_krk\"]\n",
    "gratka_gda_df = dataframes_08_23[\"gratka_gda\"]\n",
    "gratak_krk_df = dataframes_08_23[\"gratak_krk\"]\n",
    "trojmiasto_gda_df = dataframes_08_23[\"trojmiasto_gda\"]"
   ]
  },
  {
   "cell_type": "code",
   "execution_count": 9,
   "id": "5e546c4e-5b65-4d60-a5e5-74b80570e79f",
   "metadata": {},
   "outputs": [
    {
     "data": {
      "text/plain": [
       "(354, 31)"
      ]
     },
     "execution_count": 9,
     "metadata": {},
     "output_type": "execute_result"
    }
   ],
   "source": [
    "gratka_gda_df.shape"
   ]
  },
  {
   "cell_type": "code",
   "execution_count": 11,
   "id": "9f46952d-4398-4003-9233-2055f39eac5a",
   "metadata": {},
   "outputs": [
    {
     "data": {
      "text/plain": [
       "link                          0\n",
       "rent                          0\n",
       "description                   0\n",
       "address                       0\n",
       "additional_info               0\n",
       "Liczba pokoi                  0\n",
       "Piętro                        4\n",
       "Rok budowy                  122\n",
       "Jestem                        0\n",
       "Rodzaj nieruchomości          0\n",
       "Umeblowane                    3\n",
       "Liczba pięter w budynku      28\n",
       "Powierzchnia                  0\n",
       "Kaucja                      648\n",
       "Typ ogrzewania              456\n",
       "Niezależne pokoje           896\n",
       "Dostępne od                 649\n",
       "Liczba osób w pokoju       1009\n",
       "Nr oferty                   765\n",
       "Nr licencji pośrednika     1064\n",
       "Powierzchnia działki       1159\n",
       "dtype: int64"
      ]
     },
     "execution_count": 11,
     "metadata": {},
     "output_type": "execute_result"
    }
   ],
   "source": [
    "trojmiasto_gda_df.isna().sum()"
   ]
  },
  {
   "cell_type": "code",
   "execution_count": 436,
   "id": "c0296c58-fd2f-4f90-9c57-4706151d2433",
   "metadata": {},
   "outputs": [],
   "source": [
    "heating_mapping = {\n",
    "    'Centralne': 'Centralne',\n",
    "    'Miejskie': 'Miejskie',\n",
    "    'Co Miejskie': 'Centralno-miejskie',\n",
    "    'Elektryczne': 'Elektryczne',\n",
    "    'C. o. miejskie': 'Centralno-miejskie',\n",
    "    'Co Własne': 'Centralne',\n",
    "    '(Nieznane)': 'Inne',\n",
    "    'Gazowe': 'Gazowe',\n",
    "    'Ogrzewanie miejskie': 'Miejskie',\n",
    "    'Kotłownia w bloku': 'Inne',\n",
    "    'CO miejskie': 'Centralno-miejskie',\n",
    "    'Kominek': 'Inne',\n",
    "    'C/o': 'Centralne',\n",
    "    'Cenyralne': 'Centralne',\n",
    "    'C. o': 'Centralne',\n",
    "    'Podłogowe wliczone w cenę': 'Inne',\n",
    "    'Centralne, podłogowe': 'Centralne',\n",
    "    'Gazowe, klimatyzator': 'Gazowe',\n",
    "    'Centralne miejskie': 'Centralno-miejskie',\n",
    "    'Centralny': 'Centralne',\n",
    "    'Centralne, miejskie': 'Centralno-miejskie',\n",
    "    'C. o.': 'Centralne',\n",
    "    'C. O. miejskie': 'Centralno-miejskie',\n",
    "    'Kaloryfery': 'Inne',\n",
    "    'Centralne ogrzewanie': 'Centralne',\n",
    "    'CO własne': 'Inne',\n",
    "    'Centralne- z sieci': 'Centralno-miejskie',\n",
    "    'GPEC': 'Inne',\n",
    "    'Gaz': 'Gazowe',\n",
    "    'Gazowy': 'Gazowe',\n",
    "    'Miejskie (centralne)': 'Centralno-miejskie',\n",
    "    'C. O.': 'Centralne',\n",
    "    'Elektryczny': 'Elektryczne',\n",
    "    'Gaz wspólnota': 'Gazowe',\n",
    "    'Kotłowania': 'Inne',\n",
    "    'Elektryczne akumulacyjne (II taryfa)': 'Elektryczne',\n",
    "    'Ogrzrwanie centralne': 'Centralne',\n",
    "    'Miejskie (gpc)': 'Miejskie',\n",
    "    'OC': 'Centralne',\n",
    "    'Miejski podłogowe': 'Miejskie',\n",
    "    'Co miejskie': 'Centralno-miejskie',\n",
    "    'Wentylacja wymuszona': 'Inne',\n",
    "    'Eco Groszek': 'Inne'\n",
    "}\n",
    "\n",
    "furnished_mapping = {\n",
    "    'Tak': True,\n",
    "    'Nie': False\n",
    "}\n",
    "\n",
    "private_seller = {\n",
    "    'Firmą': False,\n",
    "    'Osobą prywatną': True\n",
    "}\n",
    "\n",
    "dict_regions = {\n",
    "  \"Brzeźno\": \"Brzeźno\",\n",
    "  \"Morena\": \"Morena\",\n",
    "  \"Dolne\": \"Śródmieście\",\n",
    "  \"Śródmieście\": \"Śródmieście\",\n",
    "  \"Orunia\": \"Orunia\",\n",
    "  \"Przymorze\": \"Przymorze\",\n",
    "  \"Wrzeszcz\": \"Wrzeszcz\",\n",
    "  \"Letnica\": \"Letnica\",\n",
    "  \"Żabianka\": \"Żabianka\",\n",
    "  \"Jasień\": \"Jasień\",\n",
    "  \"Stogi\": \"Stogi\",\n",
    "  \"Zakoniczyn\": \"Południe\",\n",
    "  \"Wrzwszcz\": \"Wrzeszcz\",\n",
    "  \"Stare\": \"Śródmieście\",\n",
    "  \"Długie\": \"Śródmieście\",\n",
    "  \"Łostowice\": \"Łostowice\",\n",
    "  \"Aniołki\": \"Aniołki\",\n",
    "  \"Suchanino\": \"Morena\",\n",
    "  \"Kowale\": \"Południe\",\n",
    "  \"Nowy\": \"Brzeźno\",\n",
    "  \"Oliwa\": \"Oliwa\",\n",
    "  \"Ujeścisko\": \"Łostowice\",\n",
    "  \"Siedlce\": \"Siedlce\",\n",
    "  \"Rebiechowo\": \"Matarnia\",\n",
    "  \"Piecki\": \"Morena\",\n",
    "  \"Jelitkowo\": \"Jelitkowo\",\n",
    "  \"Jelitkowski\": \"Jelitkowo\",\n",
    "  \"Południe\": \"Południe\",\n",
    "  \"Zaspa\": \"Zaspa\",\n",
    "  \"Ul.\": \"Wrzeszcz\",\n",
    "  \"Siedle\": \"Siedlce\",\n",
    "  \"Matarnia-\": \"Matarnia\",\n",
    "  \"Osowa\": \"Osowa\",\n",
    "  \"Antoniego\": \"Chełm\",\n",
    "  \"Kokoszki\": \"Matarnia\",\n",
    "  \"Przeróbka\": \"Stogi\",\n",
    "  \"Strzyża\": \"Wrzeszcz\",\n",
    "  \"Chełm\": \"Chełm\",\n",
    "  \"Osiedle\": \"Żabianka\",\n",
    "  \"Młode\": \"Stogi\",\n",
    "  \"Podwale\": \"Śródmieście\",\n",
    "  \"Czarny\": \"Brzeźno\",\n",
    "  \"Długie\": \"Śródmieście\",\n",
    "  \"Morena/\": \"Morena\",\n",
    "  \"Obrońców\": \"Przymorze\",\n",
    "  \"Piecki-\": \"Morena\",\n",
    "  \"Maćkowy\": \"Południe\",\n",
    "  \"G\": \"Wrzeszcz\",\n",
    "  \"Morenagen.\": \"Morena\",\n",
    "  \"Łostwice\": \"Łostowice\",\n",
    "  \"Kiełpinek\": \"Matarnia\",\n",
    "  \"V\": \"Śródmieście\",\n",
    "  \"Nowa\": \"Matarnia\",\n",
    "  \"Angielska\": \"Śródmieście\",\n",
    "  \"Letnica37\": \"Letnica\",\n",
    "  \"Sródmieście\": \"Śródmieście\",\n",
    "  \"Karczemki\": \"Matarnia\",\n",
    "  \"Cygańska\": \"Aniołki\",\n",
    "  \"Ofiar\": \"Aniołki\",\n",
    "  \"Wrzeszczal.\": \"Wrzeszcz\",\n",
    "  \"Wzgórze\": \"Chełm\",\n",
    "  \"Bora-\": \"Wrzeszcz\",\n",
    "  \"Starówka\": \"Śródmieście\",\n",
    "  \"Przymorzeul.\": \"Przymorze\",\n",
    "  \"Suchaninovan\": \"Morena\",\n",
    "  \"Ujeścisko-\": \"Łostowice\",\n",
    "  \"Garnizon\": \"Wrzeszcz\",\n",
    "  \"Przymorze10\": \"Przymorze\"\n",
    "}"
   ]
  },
  {
   "cell_type": "code",
   "execution_count": 437,
   "id": "9f7295c8-79c2-49e6-92d2-2df8755f3876",
   "metadata": {},
   "outputs": [],
   "source": [
    "def fill_na_with_mean(column_name: str, data_frame: pd.DataFrame):\n",
    "    mean = data_frame[column_name][data_frame[column_name].notna()].astype(int).mean()\n",
    "    data_frame.loc[:, column_name] = data_frame[column_name].fillna(mean)\n",
    "    data_frame.loc[:, column_name] = data_frame[column_name].astype(int)\n",
    "    return data_frame\n",
    "\n",
    "def extract_first_word(given_string: str):\n",
    "    big_letter = 0\n",
    "    for idx, letter in enumerate(given_string):\n",
    "        if letter.isupper() and big_letter == 1:\n",
    "            return given_string[:idx]\n",
    "        elif letter.isupper():\n",
    "            big_letter += 1\n",
    "    return given_string\n",
    "\n",
    "def clear_trojmiasto(df: pd.DataFrame):\n",
    "    # columns_to_drop\n",
    "    df.drop(\n",
    "        labels=[\n",
    "                'description', \n",
    "                'Dostępne od', \n",
    "                'Nr licencji pośrednika', \n",
    "                'Powierzchnia działki', \n",
    "                'Nr oferty',\n",
    "                'Niezależne pokoje',\n",
    "                'Liczba osób w pokoju',\n",
    "                'Kaucja',\n",
    "                'Rodzaj nieruchomości'\n",
    "        ],\n",
    "                axis=1, inplace=True)\n",
    "    \n",
    "    # rent variable\n",
    "    df['rent'] = df['rent'].apply(lambda x: float(x.replace(\"zł\", \"\").replace(\",\",\".\").replace(\" \",\"\")))\n",
    "\n",
    "    # floor\n",
    "    df['Piętro'] = df['Piętro'].replace('Parter', '0')\n",
    "    df = fill_na_with_mean(column_name=\"Piętro\", data_frame=df)\n",
    "    df = df.rename(mapper={\"Piętro\": \"floor\"}, axis=1)\n",
    "    \n",
    "    # rooms\n",
    "    df = df[df['Liczba pokoi'] <= 5]\n",
    "    df.rename(mapper={\"Liczba pokoi\": \"rooms\"}, axis=1, inplace=True)\n",
    "\n",
    "    # floors_in_building\n",
    "    df = fill_na_with_mean(column_name= \"Liczba pięter w budynku\", data_frame=df)\n",
    "    df.rename(mapper={'Liczba pięter w budynku': \"floors_in_building\"}, axis=1, inplace=True)\n",
    "\n",
    "    # build_year\n",
    "    df = df[df['Rok budowy'] >= 1850]\n",
    "    df = fill_na_with_mean(column_name=\"Rok budowy\", data_frame=df)\n",
    "    df.rename(mapper={'Rok budowy': \"build_year\"}, axis=1, inplace=True)\n",
    "\n",
    "    # heating_type\n",
    "    df['Typ ogrzewania'] = df['Typ ogrzewania'].map(heating_mapping)\n",
    "    df['Typ ogrzewania'].fillna('Inne', axis=0, inplace=True)\n",
    "    df.rename(mapper={'Typ ogrzewania': \"heating_type\"}, axis=1, inplace=True)\n",
    "\n",
    "    # furnished\n",
    "    df['Umeblowane'] = df['Umeblowane'].map(furnished_mapping)\n",
    "    df['Umeblowane'].fillna(True, axis=0, inplace=True)\n",
    "    df.rename(mapper={'Umeblowane': 'furnished'}, axis=1, inplace=True)\n",
    "\n",
    "    # surface\n",
    "    df['Powierzchnia'].str.replace(',','.').astype(float)\n",
    "    df.rename(mapper={'Powierzchnia': 'surface'}, axis=1, inplace=True)\n",
    "\n",
    "    # private seller\n",
    "    df['Jestem'] = df['Jestem'].map(private_seller)\n",
    "    df.rename(mapper={'Jestem': 'private_seller'}, axis=1, inplace=True)\n",
    "\n",
    "    # address\n",
    "    df['address2'] = df['address'].str.strip().str.replace(\" \",\"\").str.replace(\"Gdańsk\", \"\").str.replace(\"gdańsk\", \"\").str.lstrip(\"\\xa0\").apply(extract_first_word)\n",
    "    df['address2'] = df['address2'].map(dict_regions)\n",
    "\n",
    "    return df"
   ]
  },
  {
   "cell_type": "code",
   "execution_count": 438,
   "id": "46d48ddf-3e65-45bc-a1b1-2b9de3016bfe",
   "metadata": {},
   "outputs": [],
   "source": [
    "trojmiasto_gda_df = clear_trojmiasto(df = trojmiasto_gda_df)"
   ]
  },
  {
   "cell_type": "code",
   "execution_count": 462,
   "id": "61add6cf-60f1-4b2f-8554-a8a2b2f9619b",
   "metadata": {},
   "outputs": [
    {
     "data": {
      "text/plain": [
       "address\n",
       "Gdańsk                              8\n",
       "GdańskOgarna                        6\n",
       "Gdańsk BrzeźnoGdańska               4\n",
       "GdańskHallera                       3\n",
       "GdańskSzafarnia 11                  2\n",
       "GdańskStępkarska                    2\n",
       "gdańsk wrzeszcz                     2\n",
       "GdańskKowalska                      2\n",
       "GdańskGłęboka                       1\n",
       "Gdańsk Solikowskiego 3a             1\n",
       "Gdańsk Piecki-migowo                1\n",
       "Gdańsk Stogiskiby 24                1\n",
       "Gdańsk Śródmieściewałowa            1\n",
       "GdańskWałowa                        1\n",
       "Gdańsk Letnica 2                    1\n",
       "Gdańsk Jasieńlawendowe wzgorze      1\n",
       "Gdańsk Osiek                        1\n",
       "GdańskGdyńska                       1\n",
       "GdańskZamiejska 50                  1\n",
       "Gdańsk Wałowa25d                    1\n",
       "Gdańsk Kochanowskiego41             1\n",
       "Gdańsk Porębskiego                  1\n",
       "Gdańsk Starowiejska 91              1\n",
       "Gdansk                              1\n",
       "Gdańsk Gospody                      1\n",
       "GdańskKotwiczników                  1\n",
       "Gdańsk GdańskKolorowa               1\n",
       "GdańskPlater                        1\n",
       "Gdansk Nadmorski Dwor               1\n",
       "GdańskFlisykowskiego 1              1\n",
       "Gdańsk Przymorzechłopska 44         1\n",
       "Gdańsk Cienista28/20                1\n",
       "Gdańsk Przymorze69                  1\n",
       "Gdansk WrzeszczM. Konopnickiej 8    1\n",
       "Gdańsk Śródmieścieśw. barbary 11    1\n",
       "GdańskHeweliusza                    1\n",
       "Gdansk Kokoszki                     1\n",
       "GdańskSzafarnia                     1\n",
       "Gdansk Długie OgrodyŁąkowa 60       1\n",
       "GdańskNiepołomicka                  1\n",
       "Gdańsk Matemblewo                   1\n",
       "GdańskRajska                        1\n",
       "gdańsk malczewskiego 78             1\n",
       "GdańskDobra 4                       1\n",
       "Gdańsk Zakoniczynleskiego           1\n",
       "Gdańsk żabiankajakuba Wejhera       1\n",
       "Gdansk LetnicaSucha 39B             1\n",
       "GdańskŁąkowa                        1\n",
       "GdańskRogalińska                    1\n",
       "Name: count, dtype: int64"
      ]
     },
     "execution_count": 462,
     "metadata": {},
     "output_type": "execute_result"
    }
   ],
   "source": [
    "trojmiasto_gda_df[trojmiasto_gda_df['address2'].isna()]['address'].value_counts()"
   ]
  },
  {
   "cell_type": "code",
   "execution_count": 409,
   "id": "41f63521-d947-41da-a365-1ff7498204bb",
   "metadata": {},
   "outputs": [
    {
     "data": {
      "text/plain": [
       "1           [Brzeźno]\n",
       "2           [Brzeźno]\n",
       "3            [Morena]\n",
       "4       [Śródmieście]\n",
       "5       [Śródmieście]\n",
       "            ...      \n",
       "1177      [Przymorze]\n",
       "1178    [Śródmieście]\n",
       "1179        [Siedlce]\n",
       "1180    [Śródmieście]\n",
       "1181          [Osowa]\n",
       "Name: address2, Length: 1056, dtype: object"
      ]
     },
     "execution_count": 409,
     "metadata": {},
     "output_type": "execute_result"
    }
   ],
   "source": [
    "trojmiasto_gda_df['address2'].str.split(\"k\")[1:]"
   ]
  },
  {
   "cell_type": "code",
   "execution_count": 388,
   "id": "d166d747-99c9-430e-814e-057f13b2cb58",
   "metadata": {},
   "outputs": [
    {
     "data": {
      "text/plain": [
       "71"
      ]
     },
     "execution_count": 388,
     "metadata": {},
     "output_type": "execute_result"
    }
   ],
   "source": [
    "trojmiasto_gda_df['address2'].isna().sum()"
   ]
  },
  {
   "cell_type": "code",
   "execution_count": 228,
   "id": "edce4e13-5966-45e1-87b6-9207f1a66ec8",
   "metadata": {},
   "outputs": [],
   "source": [
    "district = re.findall('[A-Z][^A-Z]*', str(trojmiasto_gda_df['address'].str.replace(\"Gdańsk\", \"\").str.replace(\" \",\"\")))"
   ]
  },
  {
   "cell_type": "code",
   "execution_count": 334,
   "id": "2baa3a17-0ddd-4a83-9dc3-a395e40740a3",
   "metadata": {},
   "outputs": [],
   "source": [
    "trojmiasto_gda_df['address_tied'] = trojmiasto_gda_df['address'].str.replace(\"Gdańsk\", \"\").str.replace(\" \",\"\").str.lstrip(\"\\xa0\").apply(extract_first_word)"
   ]
  },
  {
   "cell_type": "code",
   "execution_count": 335,
   "id": "bb1001b5-ba47-4af1-9d52-697a9212680d",
   "metadata": {},
   "outputs": [
    {
     "data": {
      "text/plain": [
       "address_tied\n",
       "Śródmieście    233\n",
       "Przymorze      177\n",
       "Wrzeszcz       132\n",
       "Łostowice       51\n",
       "Morena          46\n",
       "Brzeźno         43\n",
       "Jasień          37\n",
       "Letnica         31\n",
       "Żabianka        30\n",
       "Oliwa           30\n",
       "Zaspa           26\n",
       "Południe        23\n",
       "Stogi           20\n",
       "Chełm           20\n",
       "Orunia          18\n",
       "Jelitkowo       17\n",
       "Matarnia        16\n",
       "Siedlce         15\n",
       "Aniołki         11\n",
       "Osowa           10\n",
       "Name: count, dtype: int64"
      ]
     },
     "execution_count": 335,
     "metadata": {},
     "output_type": "execute_result"
    }
   ],
   "source": [
    "trojmiasto_gda_df['address_tied'].map(dict_regions).value_counts()"
   ]
  },
  {
   "cell_type": "code",
   "execution_count": 276,
   "id": "5b9651f8-4f79-4f1b-9242-ce38cd6bb0e6",
   "metadata": {},
   "outputs": [],
   "source": [
    "dict_count = {}\n",
    "\n",
    "for k, v in dict_regions.items():\n",
    "    if v not in dict_count.keys():\n",
    "        dict_count[v] = 1\n",
    "    if v in dict_count.keys():\n",
    "        dict_count[v] += 1"
   ]
  },
  {
   "cell_type": "code",
   "execution_count": 332,
   "id": "73c8aac4-53fe-4149-9146-d01f95e0463d",
   "metadata": {},
   "outputs": [],
   "source": [
    "dict_regions = {\n",
    "  \"Brzeźno\": \"Brzeźno\",\n",
    "  \"Morena\": \"Morena\",\n",
    "  \"Dolne\": \"Śródmieście\",\n",
    "  \"Śródmieście\": \"Śródmieście\",\n",
    "  \"Orunia\": \"Orunia\",\n",
    "  \"Przymorze\": \"Przymorze\",\n",
    "  \"Wrzeszcz\": \"Wrzeszcz\",\n",
    "  \"Letnica\": \"Letnica\",\n",
    "  \"Żabianka\": \"Żabianka\",\n",
    "  \"Jasień\": \"Jasień\",\n",
    "  \"Stogi\": \"Stogi\",\n",
    "  \"Zakoniczyn\": \"Południe\",\n",
    "  \"Wrzwszcz\": \"Wrzeszcz\",\n",
    "  \"Stare\": \"Śródmieście\",\n",
    "  \"Długie\": \"Śródmieście\",\n",
    "  \"Łostowice\": \"Łostowice\",\n",
    "  \"Aniołki\": \"Aniołki\",\n",
    "  \"Suchanino\": \"Morena\",\n",
    "  \"Kowale\": \"Południe\",\n",
    "  \"Nowy\": \"Brzeźno\",\n",
    "  \"Oliwa\": \"Oliwa\",\n",
    "  \"Ujeścisko\": \"Łostowice\",\n",
    "  \"Siedlce\": \"Siedlce\",\n",
    "  \"Rebiechowo\": \"Matarnia\",\n",
    "  \"Piecki\": \"Morena\",\n",
    "  \"Jelitkowo\": \"Jelitkowo\",\n",
    "  \"Jelitkowski\": \"Jelitkowo\",\n",
    "  \"Południe\": \"Południe\",\n",
    "  \"Zaspa\": \"Zaspa\",\n",
    "  \"Ul.\": \"Wrzeszcz\",\n",
    "  \"Siedle\": \"Siedlce\",\n",
    "  \"Matarnia-\": \"Matarnia\",\n",
    "  \"Osowa\": \"Osowa\",\n",
    "  \"Antoniego\": \"Chełm\",\n",
    "  \"Kokoszki\": \"Matarnia\",\n",
    "  \"Przeróbka\": \"Stogi\",\n",
    "  \"Strzyża\": \"Wrzeszcz\",\n",
    "  \"Chełm\": \"Chełm\",\n",
    "  \"Osiedle\": \"Żabianka\",\n",
    "  \"Młode\": \"Stogi\",\n",
    "  \"Podwale\": \"Śródmieście\",\n",
    "  \"Czarny\": \"Brzeźno\",\n",
    "  \"Długie\": \"Śródmieście\",\n",
    "  \"Morena/\": \"Morena\",\n",
    "  \"Obrońców\": \"Przymorze\",\n",
    "  \"Piecki-\": \"Morena\",\n",
    "  \"Maćkowy\": \"Południe\",\n",
    "  \"G\": \"Wrzeszcz\",\n",
    "  \"Morenagen.\": \"Morena\",\n",
    "  \"Łostwice\": \"Łostowice\",\n",
    "  \"Kiełpinek\": \"Matarnia\",\n",
    "  \"V\": \"Śródmieście\",\n",
    "  \"Nowa\": \"Matarnia\",\n",
    "  \"Angielska\": \"Śródmieście\",\n",
    "  \"Letnica37\": \"Letnica\",\n",
    "  \"Sródmieście\": \"Śródmieście\",\n",
    "  \"Karczemki\": \"Matarnia\",\n",
    "  \"Cygańska\": \"Aniołki\",\n",
    "  \"Ofiar\": \"Aniołki\",\n",
    "  \"Wrzeszczal.\": \"Wrzeszcz\",\n",
    "  \"Wzgórze\": \"Chełm\",\n",
    "  \"Bora-\": \"Wrzeszcz\",\n",
    "  \"Starówka\": \"Śródmieście\",\n",
    "  \"Przymorzeul.\": \"Przymorze\",\n",
    "  \"Suchaninovan\": \"Morena\",\n",
    "  \"Ujeścisko-\": \"Łostowice\",\n",
    "  \"Garnizon\": \"Wrzeszcz\",\n",
    "  \"Przymorze10\": \"Przymorze\"\n",
    "}"
   ]
  },
  {
   "cell_type": "code",
   "execution_count": 327,
   "id": "1c5fe9af-8d27-4e4e-bb22-7542f5ea817a",
   "metadata": {},
   "outputs": [
    {
     "data": {
      "text/plain": [
       "link                    0\n",
       "rent                    0\n",
       "address                 0\n",
       "additional_info         0\n",
       "rooms                   0\n",
       "floor                   0\n",
       "build_year              0\n",
       "private_seller          0\n",
       "Rodzaj nieruchomości    0\n",
       "furnished               0\n",
       "floors_in_building      0\n",
       "surface                 0\n",
       "heating_type            0\n",
       "address_tied            0\n",
       "dtype: int64"
      ]
     },
     "execution_count": 327,
     "metadata": {},
     "output_type": "execute_result"
    }
   ],
   "source": [
    "trojmiasto_gda_df.isna().sum()"
   ]
  },
  {
   "cell_type": "code",
   "execution_count": 34,
   "id": "2ed10386-22b7-440a-b4f6-534aa966db1e",
   "metadata": {},
   "outputs": [
    {
     "data": {
      "text/plain": [
       "Index(['link', 'rent', 'description', 'address', 'additional_info',\n",
       "       'Liczba pokoi', 'Piętro', 'Rok budowy', 'Jestem',\n",
       "       'Rodzaj nieruchomości', 'Umeblowane', 'Liczba pięter w budynku',\n",
       "       'Powierzchnia', 'Kaucja', 'Typ ogrzewania', 'Niezależne pokoje',\n",
       "       'Dostępne od', 'Liczba osób w pokoju', 'Nr oferty',\n",
       "       'Nr licencji pośrednika', 'Powierzchnia działki'],\n",
       "      dtype='object')"
      ]
     },
     "execution_count": 34,
     "metadata": {},
     "output_type": "execute_result"
    }
   ],
   "source": [
    "trojmiasto_gda_df.columns"
   ]
  },
  {
   "cell_type": "code",
   "execution_count": null,
   "id": "a8751433-ba13-4a3b-bfb8-ee7062233813",
   "metadata": {},
   "outputs": [],
   "source": []
  },
  {
   "cell_type": "code",
   "execution_count": 38,
   "id": "e6e414a2-9fee-4c09-9f4d-edebbfff5a13",
   "metadata": {},
   "outputs": [
    {
     "data": {
      "text/plain": [
       "array(['Firmą', 'Osobą prywatną'], dtype=object)"
      ]
     },
     "execution_count": 38,
     "metadata": {},
     "output_type": "execute_result"
    }
   ],
   "source": [
    "trojmiasto_gda_df['Jestem'].unique()\n"
   ]
  },
  {
   "cell_type": "code",
   "execution_count": 30,
   "id": "b6ed3515-8315-475e-b415-a9b224b8272a",
   "metadata": {},
   "outputs": [
    {
     "data": {
      "text/plain": [
       "0        3 200 zł\n",
       "1        3 700 zł\n",
       "2        3 000 zł\n",
       "3        3 200 zł\n",
       "4        2 200 zł\n",
       "          ...    \n",
       "1178     5 800 zł\n",
       "1179     3 500 zł\n",
       "1180    12 000 zł\n",
       "1181     3 500 zł\n",
       "1182     2 700 zł\n",
       "Name: rent, Length: 1183, dtype: object"
      ]
     },
     "execution_count": 30,
     "metadata": {},
     "output_type": "execute_result"
    }
   ],
   "source": [
    "trojmiasto_gda_df['rent']"
   ]
  },
  {
   "cell_type": "code",
   "execution_count": 463,
   "id": "f1aa3bee-cf33-46cc-9681-f8e4c78856b3",
   "metadata": {},
   "outputs": [
    {
     "data": {
      "text/plain": [
       "Index(['link', 'rent', 'address', 'additional_info', 'rooms', 'floor',\n",
       "       'build_year', 'private_seller', 'furnished', 'floors_in_building',\n",
       "       'surface', 'heating_type', 'address2'],\n",
       "      dtype='object')"
      ]
     },
     "execution_count": 463,
     "metadata": {},
     "output_type": "execute_result"
    }
   ],
   "source": [
    "trojmiasto_gda_df.columns"
   ]
  },
  {
   "cell_type": "code",
   "execution_count": null,
   "id": "186af8b1-0ede-4988-a1d5-6bff5f06220b",
   "metadata": {},
   "outputs": [],
   "source": []
  }
 ],
 "metadata": {
  "kernelspec": {
   "display_name": "Python 3 (ipykernel)",
   "language": "python",
   "name": "python3"
  },
  "language_info": {
   "codemirror_mode": {
    "name": "ipython",
    "version": 3
   },
   "file_extension": ".py",
   "mimetype": "text/x-python",
   "name": "python",
   "nbconvert_exporter": "python",
   "pygments_lexer": "ipython3",
   "version": "3.10.10"
  }
 },
 "nbformat": 4,
 "nbformat_minor": 5
}
