{
 "cells": [
  {
   "cell_type": "code",
   "execution_count": 1,
   "id": "bb2cc1bc-93af-470a-855d-28a068cbb40e",
   "metadata": {},
   "outputs": [],
   "source": [
    "import pandas as pd\n",
    "import numpy as np\n",
    "import re"
   ]
  },
  {
   "cell_type": "code",
   "execution_count": 2,
   "id": "08122690-371c-4923-89a4-5792f2118a91",
   "metadata": {},
   "outputs": [],
   "source": [
    "# pd.set_option('display.max_colwidth', None)"
   ]
  },
  {
   "cell_type": "code",
   "execution_count": 3,
   "id": "fae04109-d2a1-45c7-b349-4f067798d64b",
   "metadata": {},
   "outputs": [],
   "source": [
    "pd.reset_option('display.max_colwidth')"
   ]
  },
  {
   "cell_type": "code",
   "execution_count": 16,
   "id": "508c6ec4-5c4a-4230-a83f-deba76133281",
   "metadata": {},
   "outputs": [],
   "source": [
    "collected_08_23 = {\n",
    "    \"otodom_krk\" : \"../original_data/collected_08_23/master_data/otodom_krk.json\",\n",
    "    \"otodom_gda\" : \"../original_data/collected_08_23/master_data/otodom_gda.json\",\n",
    "    \"olx_gda\" : \"../original_data/collected_08_23/master_data/olx_gda.json\",\n",
    "    \"olx_krk\" : \"../original_data/collected_08_23/master_data/olx_krk.json\",\n",
    "    \"gratka_gda\" : \"../original_data/collected_08_23/master_data/gratka_gda.json\",\n",
    "    \"gratak_krk\" : \"../original_data/collected_08_23/master_data/gratka_krk.json\",\n",
    "    \"trojmiasto_gda\" : \"../original_data/collected_08_23/master_data/trojmiasto_gda.json\"\n",
    "}\n",
    "\n",
    "# Create a dictionary to store DataFrames\n",
    "dataframes_08_23 = {}\n",
    "\n",
    "# Iterate through the JSON data and create DataFrames\n",
    "for key, value in collected_08_23.items():\n",
    "    dataframes_08_23[key] = pd.read_json(value)  # Assuming the data is in JSON format\n",
    "\n",
    "# Now, you have a dictionary of DataFrames where each key is a dataset\n",
    "# You can access them like this:\n",
    "otodom_krk_df = dataframes_08_23[\"otodom_krk\"]\n",
    "otodom_gda_df = dataframes_08_23[\"otodom_gda\"]\n",
    "olx_gda_df = dataframes_08_23[\"olx_gda\"]\n",
    "olx_krk_df = dataframes_08_23[\"olx_krk\"]\n",
    "gratka_gda_df = dataframes_08_23[\"gratka_gda\"]\n",
    "gratak_krk_df = dataframes_08_23[\"gratak_krk\"]\n",
    "trojmiasto_gda_df = dataframes_08_23[\"trojmiasto_gda\"]"
   ]
  },
  {
   "cell_type": "code",
   "execution_count": 18,
   "id": "1059df87-0c6b-418b-aa47-90f520de8d8b",
   "metadata": {},
   "outputs": [
    {
     "data": {
      "text/plain": [
       "link                0\n",
       "address             3\n",
       "title               3\n",
       "price               3\n",
       "surface             4\n",
       "rent_extra        242\n",
       "rooms               4\n",
       "deposit           309\n",
       "floor              50\n",
       "building_type     168\n",
       "avilable_since    605\n",
       "outside_are       262\n",
       "dtype: int64"
      ]
     },
     "execution_count": 18,
     "metadata": {},
     "output_type": "execute_result"
    }
   ],
   "source": [
    "otodom_gda_df.isna().sum()"
   ]
  },
  {
   "cell_type": "code",
   "execution_count": 22,
   "id": "201882bb-585f-4a42-b41b-f9e9bc61ded5",
   "metadata": {},
   "outputs": [
    {
     "data": {
      "text/plain": [
       "Index(['link', 'address', 'title', 'price', 'surface', 'rent_extra', 'rooms',\n",
       "       'deposit', 'floor', 'building_type', 'avilable_since', 'outside_are'],\n",
       "      dtype='object')"
      ]
     },
     "execution_count": 22,
     "metadata": {},
     "output_type": "execute_result"
    }
   ],
   "source": [
    "otodom_gda_df.columns"
   ]
  },
  {
   "cell_type": "code",
   "execution_count": 23,
   "id": "d03a6daf-0e48-44f6-9c1b-b3f43d4e1cc7",
   "metadata": {},
   "outputs": [
    {
     "data": {
      "text/plain": [
       "address\n",
       "Śródmieście, Gdańsk, pomorskie                                 47\n",
       "ul. Szafarnia, Śródmieście, Gdańsk, pomorskie                  29\n",
       "ul. Obrońców Wybrzeża, Przymorze Wielkie, Gdańsk, pomorskie    23\n",
       "ul. Nadmorski Dwór, Brzeźno, Gdańsk, pomorskie                 17\n",
       "ul. św. Barbary, Śródmieście, Gdańsk, pomorskie                16\n",
       "                                                               ..\n",
       "Aniołki, Gdańsk, pomorskie                                      1\n",
       "Aleja Grunwaldzka, Oliwa, Gdańsk, pomorskie                     1\n",
       "ul. Nieborowska 46, Chełm, Gdańsk, pomorskie                    1\n",
       "ul. Słowiańska, Przymorze Małe, Gdańsk, pomorskie               1\n",
       "ul. Rybaki Dolne, Śródmieście, Gdańsk, pomorskie                1\n",
       "Name: count, Length: 328, dtype: int64"
      ]
     },
     "execution_count": 23,
     "metadata": {},
     "output_type": "execute_result"
    }
   ],
   "source": [
    "otodom_gda_df[\"address\"].value_counts()"
   ]
  },
  {
   "cell_type": "code",
   "execution_count": 12,
   "id": "30418a20-eee7-4104-bfeb-566aee3b960a",
   "metadata": {},
   "outputs": [
    {
     "data": {
      "text/html": [
       "<div>\n",
       "<style scoped>\n",
       "    .dataframe tbody tr th:only-of-type {\n",
       "        vertical-align: middle;\n",
       "    }\n",
       "\n",
       "    .dataframe tbody tr th {\n",
       "        vertical-align: top;\n",
       "    }\n",
       "\n",
       "    .dataframe thead th {\n",
       "        text-align: right;\n",
       "    }\n",
       "</style>\n",
       "<table border=\"1\" class=\"dataframe\">\n",
       "  <thead>\n",
       "    <tr style=\"text-align: right;\">\n",
       "      <th></th>\n",
       "      <th>rent</th>\n",
       "      <th>location</th>\n",
       "      <th>add_date</th>\n",
       "      <th>Prywatne</th>\n",
       "      <th>Poziom</th>\n",
       "      <th>Umeblowane</th>\n",
       "      <th>Rodzaj zabudowy</th>\n",
       "      <th>Powierzchnia</th>\n",
       "      <th>Liczba pokoi</th>\n",
       "      <th>Czynsz (dodatkowo)</th>\n",
       "      <th>Firmowe</th>\n",
       "      <th>negotiable</th>\n",
       "    </tr>\n",
       "  </thead>\n",
       "  <tbody>\n",
       "    <tr>\n",
       "      <th>0</th>\n",
       "      <td>2250.0</td>\n",
       "      <td>Stogi z Przeróbką</td>\n",
       "      <td>18 sierpnia 2023</td>\n",
       "      <td>1.0</td>\n",
       "      <td>2</td>\n",
       "      <td>Tak</td>\n",
       "      <td>Blok</td>\n",
       "      <td>38 m²</td>\n",
       "      <td>2 pokoje</td>\n",
       "      <td>750 zł</td>\n",
       "      <td>NaN</td>\n",
       "      <td>False</td>\n",
       "    </tr>\n",
       "    <tr>\n",
       "      <th>1</th>\n",
       "      <td>2700.0</td>\n",
       "      <td>Chełm z dzielnicą Gdańsk Południe</td>\n",
       "      <td>20 sierpnia 2023</td>\n",
       "      <td>1.0</td>\n",
       "      <td>2</td>\n",
       "      <td>Tak</td>\n",
       "      <td>Blok</td>\n",
       "      <td>51 m²</td>\n",
       "      <td>2 pokoje</td>\n",
       "      <td>650 zł</td>\n",
       "      <td>NaN</td>\n",
       "      <td>False</td>\n",
       "    </tr>\n",
       "    <tr>\n",
       "      <th>2</th>\n",
       "      <td>2800.0</td>\n",
       "      <td>Siedlce</td>\n",
       "      <td>20 sierpnia 2023</td>\n",
       "      <td>1.0</td>\n",
       "      <td>1</td>\n",
       "      <td>Tak</td>\n",
       "      <td>Apartamentowiec</td>\n",
       "      <td>40 m²</td>\n",
       "      <td>2 pokoje</td>\n",
       "      <td>320 zł</td>\n",
       "      <td>NaN</td>\n",
       "      <td>False</td>\n",
       "    </tr>\n",
       "    <tr>\n",
       "      <th>3</th>\n",
       "      <td>2900.0</td>\n",
       "      <td>Przymorze Małe</td>\n",
       "      <td>13 sierpnia 2023</td>\n",
       "      <td>1.0</td>\n",
       "      <td>2</td>\n",
       "      <td>Tak</td>\n",
       "      <td>Apartamentowiec</td>\n",
       "      <td>41 m²</td>\n",
       "      <td>2 pokoje</td>\n",
       "      <td>500 zł</td>\n",
       "      <td>NaN</td>\n",
       "      <td>False</td>\n",
       "    </tr>\n",
       "    <tr>\n",
       "      <th>4</th>\n",
       "      <td>350.0</td>\n",
       "      <td>Przymorze Małe</td>\n",
       "      <td>17 sierpnia 2023</td>\n",
       "      <td>1.0</td>\n",
       "      <td>2</td>\n",
       "      <td>Tak</td>\n",
       "      <td>Blok</td>\n",
       "      <td>45 m²</td>\n",
       "      <td>2 pokoje</td>\n",
       "      <td>350 zł</td>\n",
       "      <td>NaN</td>\n",
       "      <td>False</td>\n",
       "    </tr>\n",
       "  </tbody>\n",
       "</table>\n",
       "</div>"
      ],
      "text/plain": [
       "     rent                           location           add_date  Prywatne  \\\n",
       "0  2250.0                  Stogi z Przeróbką   18 sierpnia 2023       1.0   \n",
       "1  2700.0  Chełm z dzielnicą Gdańsk Południe   20 sierpnia 2023       1.0   \n",
       "2  2800.0                            Siedlce   20 sierpnia 2023       1.0   \n",
       "3  2900.0                     Przymorze Małe   13 sierpnia 2023       1.0   \n",
       "4   350.0                     Przymorze Małe   17 sierpnia 2023       1.0   \n",
       "\n",
       "  Poziom Umeblowane   Rodzaj zabudowy Powierzchnia Liczba pokoi  \\\n",
       "0      2        Tak              Blok        38 m²     2 pokoje   \n",
       "1      2        Tak              Blok        51 m²     2 pokoje   \n",
       "2      1        Tak   Apartamentowiec        40 m²     2 pokoje   \n",
       "3      2        Tak   Apartamentowiec        41 m²     2 pokoje   \n",
       "4      2        Tak              Blok        45 m²     2 pokoje   \n",
       "\n",
       "  Czynsz (dodatkowo)  Firmowe  negotiable  \n",
       "0             750 zł      NaN       False  \n",
       "1             650 zł      NaN       False  \n",
       "2             320 zł      NaN       False  \n",
       "3             500 zł      NaN       False  \n",
       "4             350 zł      NaN       False  "
      ]
     },
     "execution_count": 12,
     "metadata": {},
     "output_type": "execute_result"
    }
   ],
   "source": [
    "otodom_gda_df.head()"
   ]
  },
  {
   "cell_type": "code",
   "execution_count": 10,
   "id": "cc27c600-066c-43d0-b5a8-36bc668af525",
   "metadata": {},
   "outputs": [],
   "source": [
    "def convert_numeric_to_float(convertable_string):\n",
    "    return float(convertable_string.replace(\"zł\", \"\").replace(\" \", \"\").replace(\"\\ndonegocjacji\", \"\"))\n",
    "\n",
    "def clear_olx(df: pd.DataFrame, city = 'Gdansk'):\n",
    "    df.drop(\n",
    "        labels=[\n",
    "            'link', \n",
    "            'username', \n",
    "            'on_olx_since', \n",
    "            'last_activity',\n",
    "            'title',\n",
    "            'description'\n",
    "        ],\n",
    "        inplace= True,\n",
    "        axis= 1\n",
    "    )\n",
    "    \n",
    "    is_negotiable_list = []\n",
    "    \n",
    "    for index, row in df.iterrows():\n",
    "\n",
    "        # negotiable\n",
    "        if 'do negocjacji' in row['rent']:\n",
    "            is_negotiable_list.append(True)\n",
    "        else:\n",
    "            is_negotiable_list.append(False)\n",
    "    \n",
    "    # negotiable apply\n",
    "    df['negotiable'] = is_negotiable_list\n",
    "\n",
    "\n",
    "    # rent\n",
    "    df['rent'] = df['rent'].apply(convert_numeric_to_float)\n",
    "\n",
    "    # rent_extra\n",
    "    df = df.rename(mapper={\"rent_extra\": \"Czynsz (dodatkowo)\"}, axis=1)\n",
    "    df['rent_extra'] = df['rent_extra'].apply(convert_numeric_to_float)"
   ]
  },
  {
   "cell_type": "code",
   "execution_count": 11,
   "id": "b6ded3e8-461c-4702-a18c-533947779a34",
   "metadata": {},
   "outputs": [
    {
     "ename": "KeyError",
     "evalue": "'rent_extra'",
     "output_type": "error",
     "traceback": [
      "\u001b[0;31m---------------------------------------------------------------------------\u001b[0m",
      "\u001b[0;31mKeyError\u001b[0m                                  Traceback (most recent call last)",
      "File \u001b[0;32m~/Documents/Code/masters_thesis/venv/lib/python3.10/site-packages/pandas/core/indexes/base.py:3653\u001b[0m, in \u001b[0;36mIndex.get_loc\u001b[0;34m(self, key)\u001b[0m\n\u001b[1;32m   3652\u001b[0m \u001b[38;5;28;01mtry\u001b[39;00m:\n\u001b[0;32m-> 3653\u001b[0m     \u001b[38;5;28;01mreturn\u001b[39;00m \u001b[38;5;28;43mself\u001b[39;49m\u001b[38;5;241;43m.\u001b[39;49m\u001b[43m_engine\u001b[49m\u001b[38;5;241;43m.\u001b[39;49m\u001b[43mget_loc\u001b[49m\u001b[43m(\u001b[49m\u001b[43mcasted_key\u001b[49m\u001b[43m)\u001b[49m\n\u001b[1;32m   3654\u001b[0m \u001b[38;5;28;01mexcept\u001b[39;00m \u001b[38;5;167;01mKeyError\u001b[39;00m \u001b[38;5;28;01mas\u001b[39;00m err:\n",
      "File \u001b[0;32m~/Documents/Code/masters_thesis/venv/lib/python3.10/site-packages/pandas/_libs/index.pyx:147\u001b[0m, in \u001b[0;36mpandas._libs.index.IndexEngine.get_loc\u001b[0;34m()\u001b[0m\n",
      "File \u001b[0;32m~/Documents/Code/masters_thesis/venv/lib/python3.10/site-packages/pandas/_libs/index.pyx:176\u001b[0m, in \u001b[0;36mpandas._libs.index.IndexEngine.get_loc\u001b[0;34m()\u001b[0m\n",
      "File \u001b[0;32mpandas/_libs/hashtable_class_helper.pxi:7080\u001b[0m, in \u001b[0;36mpandas._libs.hashtable.PyObjectHashTable.get_item\u001b[0;34m()\u001b[0m\n",
      "File \u001b[0;32mpandas/_libs/hashtable_class_helper.pxi:7088\u001b[0m, in \u001b[0;36mpandas._libs.hashtable.PyObjectHashTable.get_item\u001b[0;34m()\u001b[0m\n",
      "\u001b[0;31mKeyError\u001b[0m: 'rent_extra'",
      "\nThe above exception was the direct cause of the following exception:\n",
      "\u001b[0;31mKeyError\u001b[0m                                  Traceback (most recent call last)",
      "Cell \u001b[0;32mIn[11], line 1\u001b[0m\n\u001b[0;32m----> 1\u001b[0m olx_gda_df \u001b[38;5;241m=\u001b[39m \u001b[43mclear_olx\u001b[49m\u001b[43m(\u001b[49m\u001b[43molx_gda_df\u001b[49m\u001b[43m)\u001b[49m\n",
      "Cell \u001b[0;32mIn[10], line 37\u001b[0m, in \u001b[0;36mclear_olx\u001b[0;34m(df, city)\u001b[0m\n\u001b[1;32m     35\u001b[0m \u001b[38;5;66;03m# rent_extra\u001b[39;00m\n\u001b[1;32m     36\u001b[0m df \u001b[38;5;241m=\u001b[39m df\u001b[38;5;241m.\u001b[39mrename(mapper\u001b[38;5;241m=\u001b[39m{\u001b[38;5;124m\"\u001b[39m\u001b[38;5;124mrent_extra\u001b[39m\u001b[38;5;124m\"\u001b[39m: \u001b[38;5;124m\"\u001b[39m\u001b[38;5;124mCzynsz (dodatkowo)\u001b[39m\u001b[38;5;124m\"\u001b[39m}, axis\u001b[38;5;241m=\u001b[39m\u001b[38;5;241m1\u001b[39m)\n\u001b[0;32m---> 37\u001b[0m df[\u001b[38;5;124m'\u001b[39m\u001b[38;5;124mrent_extra\u001b[39m\u001b[38;5;124m'\u001b[39m] \u001b[38;5;241m=\u001b[39m \u001b[43mdf\u001b[49m\u001b[43m[\u001b[49m\u001b[38;5;124;43m'\u001b[39;49m\u001b[38;5;124;43mrent_extra\u001b[39;49m\u001b[38;5;124;43m'\u001b[39;49m\u001b[43m]\u001b[49m\u001b[38;5;241m.\u001b[39mapply(convert_numeric_to_float)\n",
      "File \u001b[0;32m~/Documents/Code/masters_thesis/venv/lib/python3.10/site-packages/pandas/core/frame.py:3761\u001b[0m, in \u001b[0;36mDataFrame.__getitem__\u001b[0;34m(self, key)\u001b[0m\n\u001b[1;32m   3759\u001b[0m \u001b[38;5;28;01mif\u001b[39;00m \u001b[38;5;28mself\u001b[39m\u001b[38;5;241m.\u001b[39mcolumns\u001b[38;5;241m.\u001b[39mnlevels \u001b[38;5;241m>\u001b[39m \u001b[38;5;241m1\u001b[39m:\n\u001b[1;32m   3760\u001b[0m     \u001b[38;5;28;01mreturn\u001b[39;00m \u001b[38;5;28mself\u001b[39m\u001b[38;5;241m.\u001b[39m_getitem_multilevel(key)\n\u001b[0;32m-> 3761\u001b[0m indexer \u001b[38;5;241m=\u001b[39m \u001b[38;5;28;43mself\u001b[39;49m\u001b[38;5;241;43m.\u001b[39;49m\u001b[43mcolumns\u001b[49m\u001b[38;5;241;43m.\u001b[39;49m\u001b[43mget_loc\u001b[49m\u001b[43m(\u001b[49m\u001b[43mkey\u001b[49m\u001b[43m)\u001b[49m\n\u001b[1;32m   3762\u001b[0m \u001b[38;5;28;01mif\u001b[39;00m is_integer(indexer):\n\u001b[1;32m   3763\u001b[0m     indexer \u001b[38;5;241m=\u001b[39m [indexer]\n",
      "File \u001b[0;32m~/Documents/Code/masters_thesis/venv/lib/python3.10/site-packages/pandas/core/indexes/base.py:3655\u001b[0m, in \u001b[0;36mIndex.get_loc\u001b[0;34m(self, key)\u001b[0m\n\u001b[1;32m   3653\u001b[0m     \u001b[38;5;28;01mreturn\u001b[39;00m \u001b[38;5;28mself\u001b[39m\u001b[38;5;241m.\u001b[39m_engine\u001b[38;5;241m.\u001b[39mget_loc(casted_key)\n\u001b[1;32m   3654\u001b[0m \u001b[38;5;28;01mexcept\u001b[39;00m \u001b[38;5;167;01mKeyError\u001b[39;00m \u001b[38;5;28;01mas\u001b[39;00m err:\n\u001b[0;32m-> 3655\u001b[0m     \u001b[38;5;28;01mraise\u001b[39;00m \u001b[38;5;167;01mKeyError\u001b[39;00m(key) \u001b[38;5;28;01mfrom\u001b[39;00m \u001b[38;5;21;01merr\u001b[39;00m\n\u001b[1;32m   3656\u001b[0m \u001b[38;5;28;01mexcept\u001b[39;00m \u001b[38;5;167;01mTypeError\u001b[39;00m:\n\u001b[1;32m   3657\u001b[0m     \u001b[38;5;66;03m# If we have a listlike key, _check_indexing_error will raise\u001b[39;00m\n\u001b[1;32m   3658\u001b[0m     \u001b[38;5;66;03m#  InvalidIndexError. Otherwise we fall through and re-raise\u001b[39;00m\n\u001b[1;32m   3659\u001b[0m     \u001b[38;5;66;03m#  the TypeError.\u001b[39;00m\n\u001b[1;32m   3660\u001b[0m     \u001b[38;5;28mself\u001b[39m\u001b[38;5;241m.\u001b[39m_check_indexing_error(key)\n",
      "\u001b[0;31mKeyError\u001b[0m: 'rent_extra'"
     ]
    }
   ],
   "source": [
    "otodom_gda_df = clear_olx(otodom_gda_df)"
   ]
  },
  {
   "cell_type": "code",
   "execution_count": null,
   "id": "7b134218-71bd-42b4-ae57-ab0cd8aca2f3",
   "metadata": {},
   "outputs": [],
   "source": []
  }
 ],
 "metadata": {
  "kernelspec": {
   "display_name": "Python 3 (ipykernel)",
   "language": "python",
   "name": "python3"
  },
  "language_info": {
   "codemirror_mode": {
    "name": "ipython",
    "version": 3
   },
   "file_extension": ".py",
   "mimetype": "text/x-python",
   "name": "python",
   "nbconvert_exporter": "python",
   "pygments_lexer": "ipython3",
   "version": "3.10.10"
  }
 },
 "nbformat": 4,
 "nbformat_minor": 5
}
