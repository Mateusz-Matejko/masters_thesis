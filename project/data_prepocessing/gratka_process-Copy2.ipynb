{
 "cells": [
  {
   "cell_type": "code",
   "execution_count": 1,
   "id": "bb2cc1bc-93af-470a-855d-28a068cbb40e",
   "metadata": {},
   "outputs": [],
   "source": [
    "import pandas as pd\n",
    "import numpy as np\n",
    "import re"
   ]
  },
  {
   "cell_type": "code",
   "execution_count": 2,
   "id": "08122690-371c-4923-89a4-5792f2118a91",
   "metadata": {},
   "outputs": [],
   "source": [
    "# pd.set_option('display.max_colwidth', None)"
   ]
  },
  {
   "cell_type": "code",
   "execution_count": 3,
   "id": "fae04109-d2a1-45c7-b349-4f067798d64b",
   "metadata": {},
   "outputs": [],
   "source": [
    "pd.reset_option('display.max_colwidth')"
   ]
  },
  {
   "cell_type": "code",
   "execution_count": 4,
   "id": "508c6ec4-5c4a-4230-a83f-deba76133281",
   "metadata": {},
   "outputs": [],
   "source": [
    "collected_08_23 = {\n",
    "    \"otodom_krk\" : \"../original_data/collected_08_23/master_data/otodom_krk.json\",\n",
    "    \"otodom_gda\" : \"../original_data/collected_08_23/master_data/otodom_gda.json\",\n",
    "    \"olx_gda\" : \"../original_data/collected_08_23/master_data/olx_gda.json\",\n",
    "    \"olx_krk\" : \"../original_data/collected_08_23/master_data/olx_krk.json\",\n",
    "    \"gratka_gda\" : \"../original_data/collected_08_23/master_data/gratka_gda.json\",\n",
    "    \"gratak_krk\" : \"../original_data/collected_08_23/master_data/gratka_krk.json\",\n",
    "    \"trojmiasto_gda\" : \"../original_data/collected_08_23/master_data/trojmiasto_gda.json\"\n",
    "}\n",
    "\n",
    "# Create a dictionary to store DataFrames\n",
    "dataframes_08_23 = {}\n",
    "\n",
    "# Iterate through the JSON data and create DataFrames\n",
    "for key, value in collected_08_23.items():\n",
    "    dataframes_08_23[key] = pd.read_json(value)  # Assuming the data is in JSON format\n",
    "\n",
    "# Now, you have a dictionary of DataFrames where each key is a dataset\n",
    "# You can access them like this:\n",
    "otodom_krk_df = dataframes_08_23[\"otodom_krk\"]\n",
    "otodom_gda_df = dataframes_08_23[\"otodom_gda\"]\n",
    "olx_gda_df = dataframes_08_23[\"olx_gda\"]\n",
    "olx_krk_df = dataframes_08_23[\"olx_krk\"]\n",
    "gratka_gda_df = dataframes_08_23[\"gratka_gda\"]\n",
    "gratak_krk_df = dataframes_08_23[\"gratak_krk\"]\n",
    "trojmiasto_gda_df = dataframes_08_23[\"trojmiasto_gda\"]"
   ]
  },
  {
   "cell_type": "code",
   "execution_count": 9,
   "id": "f76cc89a-1eba-463c-98c4-cf22214975e1",
   "metadata": {},
   "outputs": [],
   "source": [
    "df = gratka_gda_df"
   ]
  },
  {
   "cell_type": "code",
   "execution_count": 10,
   "id": "d626c0fb-eedb-4490-a6af-364404b4ef57",
   "metadata": {},
   "outputs": [
    {
     "data": {
      "text/plain": [
       "Index(['link', 'rent', 'description', 'address', 'title', 'additional_info',\n",
       "       'Lokalizacja', 'Powierzchnia w m2', 'Liczba pokoi', 'Piętro',\n",
       "       'Rok budowy', 'Typ zabudowy', 'Liczba pięter w budynku',\n",
       "       'Dostępność od', 'Numer referencyjny', 'Udogodnienia', 'Zaktualizowane',\n",
       "       'Dodane', 'Stan', 'Miejsce parkingowe', 'Forma kuchni',\n",
       "       'Materiał budynku', 'Liczba miejsc parkingowych',\n",
       "       'Czy mieszkanie ma łazienkę?', 'Możliwy kontakt w języku',\n",
       "       'Opłaty (czynsz administracyjny, media)', 'Stan instalacji',\n",
       "       'Stan łazienki', 'Okna', 'Głośność',\n",
       "       'Usytuowanie względem stron świata'],\n",
       "      dtype='object')"
      ]
     },
     "execution_count": 10,
     "metadata": {},
     "output_type": "execute_result"
    }
   ],
   "source": [
    "df.columns"
   ]
  },
  {
   "cell_type": "code",
   "execution_count": 19,
   "id": "d2914c06-342d-44d4-a8ba-34d3d4c468b2",
   "metadata": {},
   "outputs": [
    {
     "data": {
      "text/plain": [
       "Lokalizacja\n",
       "Gdańsk,                                         Śródmieście,                                         pomorskie           83\n",
       "Gdańsk,                                         Przymorze,                                         pomorskie             46\n",
       "Gdańsk,                                         pomorskie                                                                35\n",
       "Gdańsk,                                         Wrzeszcz,                                         pomorskie              21\n",
       "Gdańsk,                                         Jasień,                                         pomorskie                17\n",
       "Gdańsk,                                         Stare Miasto,                                         pomorskie          15\n",
       "Gdańsk,                                         Oliwa,                                         pomorskie                 15\n",
       "Gdańsk,                                         Brzeźno,                                         pomorskie               15\n",
       "Gdańsk,                                         Jelitkowo,                                         pomorskie             12\n",
       "Gdańsk,                                         Zaspa-Rozstaje,                                         pomorskie        11\n",
       "Gdańsk,                                         Letnica,                                         pomorskie               10\n",
       "Gdańsk,                                         Zaspa,                                         pomorskie                  8\n",
       "Gdańsk,                                         Piecki-Migowo,                                         pomorskie          7\n",
       "Gdańsk,                                         Żabianka,                                         pomorskie               6\n",
       "Gdańsk,                                         Ujeścisko,                                         pomorskie              5\n",
       "Gdańsk,                                         Łostowice,                                         pomorskie              5\n",
       "Gdańsk,                                         Suchanino,                                         pomorskie              4\n",
       "Gdańsk,                                         Chełm,                                         pomorskie                  4\n",
       "Gdańsk,                                         Dolne Miasto,                                         pomorskie           3\n",
       "Gdańsk,                                         Główne Miasto,                                         pomorskie          3\n",
       "Gdańsk,                                         Wrzeszcz Górny,                                         pomorskie         3\n",
       "Gdańsk,                                         Siedlce,                                         pomorskie                3\n",
       "Gdańsk,                                         Stare Przedmieście,                                         pomorskie     3\n",
       "Gdańsk,                                         Wrzeszcz Dolny,                                         pomorskie         3\n",
       "Gdańsk,                                         Przymorze Wielkie,                                         pomorskie      2\n",
       "Gdańsk,                                         Orunia,                                         pomorskie                 2\n",
       "Gdańsk,                                         Osowa,                                         pomorskie                  2\n",
       "Gdańsk,                                         Kokoszki,                                         pomorskie               2\n",
       "Gdańsk,                                         Stogi,                                         pomorskie                  2\n",
       "Gdańsk,                                         Maćkowy,                                         pomorskie                1\n",
       "Gdańsk,                                         Piecki,                                         pomorskie                 1\n",
       "Gdańsk,                                         Kiełpinek,                                         pomorskie              1\n",
       "Gdańsk,                                         Gdańsk,                                         pomorskie                 1\n",
       "Gdańsk,                                         Nowy Port,                                         pomorskie              1\n",
       "Gdańsk,                                         Długie Ogrody,                                         pomorskie          1\n",
       "Gdańsk,                                         Przeróbka,                                         pomorskie              1\n",
       "Name: count, dtype: int64"
      ]
     },
     "execution_count": 19,
     "metadata": {},
     "output_type": "execute_result"
    }
   ],
   "source": [
    "df['Lokalizacja'].value_counts()"
   ]
  },
  {
   "cell_type": "code",
   "execution_count": 18,
   "id": "1059df87-0c6b-418b-aa47-90f520de8d8b",
   "metadata": {},
   "outputs": [
    {
     "data": {
      "text/plain": [
       "Lokalizacja\n",
       ",                                         Śródmieście,           83\n",
       ",                                         Przymorze,             46\n",
       ",                                                                35\n",
       ",                                         Wrzeszcz,              21\n",
       ",                                         Jasień,                17\n",
       ",                                         Stare Miasto,          15\n",
       ",                                         Oliwa,                 15\n",
       ",                                         Brzeźno,               15\n",
       ",                                         Jelitkowo,             12\n",
       ",                                         Zaspa-Rozstaje,        11\n",
       ",                                         Letnica,               10\n",
       ",                                         Zaspa,                  8\n",
       ",                                         Piecki-Migowo,          7\n",
       ",                                         Żabianka,               6\n",
       ",                                         Ujeścisko,              5\n",
       ",                                         Łostowice,              5\n",
       ",                                         Suchanino,              4\n",
       ",                                         Chełm,                  4\n",
       ",                                         Dolne Miasto,           3\n",
       ",                                         Główne Miasto,          3\n",
       ",                                         Wrzeszcz Górny,         3\n",
       ",                                         Siedlce,                3\n",
       ",                                         Stare Przedmieście,     3\n",
       ",                                         Wrzeszcz Dolny,         3\n",
       ",                                         Przymorze Wielkie,      2\n",
       ",                                         Orunia,                 2\n",
       ",                                         Osowa,                  2\n",
       ",                                         Kokoszki,               2\n",
       ",                                         Stogi,                  2\n",
       ",                                         Maćkowy,                1\n",
       ",                                         Piecki,                 1\n",
       ",                                         Kiełpinek,              1\n",
       ",                                         ,                       1\n",
       ",                                         Nowy Port,              1\n",
       ",                                         Długie Ogrody,          1\n",
       ",                                         Przeróbka,              1\n",
       "Name: count, dtype: int64"
      ]
     },
     "execution_count": 18,
     "metadata": {},
     "output_type": "execute_result"
    }
   ],
   "source": [
    "df['Lokalizacja'].str.replace(\"Gdańsk,\", \"\").str.replace(\"pomorskie\", \"\").str.strip().value_counts()"
   ]
  },
  {
   "cell_type": "code",
   "execution_count": 48,
   "id": "c80c1194-994e-4aad-9edb-0a1b1c3d3aae",
   "metadata": {},
   "outputs": [
    {
     "name": "stdout",
     "output_type": "stream",
     "text": [
      "{'Aniołki': 1,\n",
      " 'Brzeźno': 46,\n",
      " 'Chełm': 11,\n",
      " 'Gdańsk': 142,\n",
      " 'Gdynia': 1,\n",
      " 'Jasień': 24,\n",
      " 'Jelitkowo': 26,\n",
      " 'Kokoszki': 4,\n",
      " 'Letnica': 18,\n",
      " 'Matarnia': 1,\n",
      " 'Młyniska': 3,\n",
      " 'Nowy Port': 1,\n",
      " 'Oliwa': 24,\n",
      " 'Olszynka': 1,\n",
      " 'Orunia Górna - Gdańsk Południe': 23,\n",
      " 'Orunia-Św. Wojciech-Lipce': 4,\n",
      " 'Osowa': 5,\n",
      " 'Piecki-Migowo': 16,\n",
      " 'Przeróbka': 2,\n",
      " 'Przymorze Małe': 56,\n",
      " 'Przymorze Wielkie': 58,\n",
      " 'Siedlce': 12,\n",
      " 'Stogi': 4,\n",
      " 'Strzyża': 3,\n",
      " 'Suchanino': 4,\n",
      " 'Tysiąclecia': 2,\n",
      " 'Ujeścisko-Łostowice': 15,\n",
      " 'VII Dwór': 4,\n",
      " 'Wejhera': 7,\n",
      " 'Wrzeszcz Dolny': 38,\n",
      " 'Wrzeszcz Górny': 38,\n",
      " 'Wzgórze Mickiewicza': 1,\n",
      " 'Zaspa-Młyniec': 12,\n",
      " 'Zaspa-Rozstaje': 17,\n",
      " 'ul. Krzywoustego 19C': 1,\n",
      " 'Śródmieście': 218,\n",
      " 'Żabianka': 14}\n"
     ]
    }
   ],
   "source": [
    "regions_dict = {}  # Initialize the dictionary outside the loop\n",
    "\n",
    "for number in range(otodom_gda_df.shape[0]):\n",
    "    address = otodom_gda_df['address'].str.split(\",\")[number]\n",
    "    if address and len(address) > 1:\n",
    "        region = address[1].strip()\n",
    "        if region not in regions_dict:\n",
    "            regions_dict[region] = 1\n",
    "        else:\n",
    "            regions_dict[region] += 1\n",
    "\n",
    "import pprint\n",
    "pprint.pprint(regions_dict)"
   ]
  },
  {
   "cell_type": "code",
   "execution_count": 33,
   "id": "ea247583-452d-40ee-91a8-cd231993909f",
   "metadata": {},
   "outputs": [
    {
     "data": {
      "text/plain": [
       "'Żabianka'"
      ]
     },
     "execution_count": 33,
     "metadata": {},
     "output_type": "execute_result"
    }
   ],
   "source": [
    "otodom_gda_df['address'].str.split(\",\")[8][1].strip()"
   ]
  },
  {
   "cell_type": "code",
   "execution_count": 21,
   "id": "a83eee59-a371-4ce3-b168-24372785f7df",
   "metadata": {},
   "outputs": [
    {
     "data": {
      "text/plain": [
       "address\n",
       "Śródmieście, Gdańsk, pomorskie                                 47\n",
       "ul. Szafarnia, Śródmieście, Gdańsk, pomorskie                  29\n",
       "ul. Obrońców Wybrzeża, Przymorze Wielkie, Gdańsk, pomorskie    23\n",
       "ul. Nadmorski Dwór, Brzeźno, Gdańsk, pomorskie                 17\n",
       "ul. św. Barbary, Śródmieście, Gdańsk, pomorskie                16\n",
       "                                                               ..\n",
       "Aniołki, Gdańsk, pomorskie                                      1\n",
       "Aleja Grunwaldzka, Oliwa, Gdańsk, pomorskie                     1\n",
       "ul. Nieborowska 46, Chełm, Gdańsk, pomorskie                    1\n",
       "ul. Słowiańska, Przymorze Małe, Gdańsk, pomorskie               1\n",
       "ul. Rybaki Dolne, Śródmieście, Gdańsk, pomorskie                1\n",
       "Name: count, Length: 328, dtype: int64"
      ]
     },
     "execution_count": 21,
     "metadata": {},
     "output_type": "execute_result"
    }
   ],
   "source": [
    "otodom_gda_df['address']"
   ]
  },
  {
   "cell_type": "code",
   "execution_count": 43,
   "id": "e2a7af80-ec57-4f00-bba8-260ec9fbdd32",
   "metadata": {
    "scrolled": true
   },
   "outputs": [
    {
     "name": "stdout",
     "output_type": "stream",
     "text": [
      "The string 'negocjacji' appears in 42 rows of the column 'rent'.\n"
     ]
    }
   ],
   "source": [
    "import pandas as pd\n",
    "\n",
    "# Assuming you have a DataFrame named 'df' and you want to check a specific column named 'your_column_name'\n",
    "target_string = 'negocjacji'\n",
    "column_name = 'rent'\n",
    "\n",
    "# Create a boolean mask to check if each row in the specified column contains the target string\n",
    "mask = olx_gda_df[column_name].str.contains(target_string, na=False)\n",
    "\n",
    "# Count the number of True values in the mask (i.e., the number of rows containing the target string)\n",
    "count = mask.sum()\n",
    "\n",
    "print(f\"The string '{target_string}' appears in {count} rows of the column '{column_name}'.\")\n"
   ]
  },
  {
   "cell_type": "code",
   "execution_count": 94,
   "id": "d03a6daf-0e48-44f6-9c1b-b3f43d4e1cc7",
   "metadata": {},
   "outputs": [
    {
     "data": {
      "text/plain": [
       "location\n",
       "Śródmieście                                     78\n",
       "Przymorze Wielkie                               43\n",
       "Brzeźno                                         33\n",
       "Przymorze Małe                                  32\n",
       "Wrzeszcz                                        32\n",
       "Żabianka - Wejhera - Jelitkowo - Tysiąclecia    30\n",
       "Chełm z dzielnicą Gdańsk Południe               17\n",
       "Jasień                                          14\n",
       "Ujeścisko - Łostowice                           14\n",
       "Letnica                                         12\n",
       "Piecki-Migowo                                   10\n",
       "Zaspa Młyniec                                   10\n",
       "Orunia - Św. Wojciech - Lipce                    9\n",
       "Zaspa Rozstaje                                   7\n",
       "Siedlce                                          7\n",
       "Stogi z Przeróbką                                6\n",
       "Oliwa                                            5\n",
       "Aniołki                                          5\n",
       "Wzgórze Mickiewicza                              2\n",
       "Matarnia                                         2\n",
       "Suchanino                                        2\n",
       "Brętowo                                          1\n",
       "Kokoszki                                         1\n",
       "Strzyża                                          1\n",
       "Młyniska                                         1\n",
       "Name: count, dtype: int64"
      ]
     },
     "execution_count": 94,
     "metadata": {},
     "output_type": "execute_result"
    }
   ],
   "source": [
    "df['location'].value_counts()"
   ]
  },
  {
   "cell_type": "code",
   "execution_count": 44,
   "id": "30418a20-eee7-4104-bfeb-566aee3b960a",
   "metadata": {},
   "outputs": [
    {
     "data": {
      "text/plain": [
       "(374, 17)"
      ]
     },
     "execution_count": 44,
     "metadata": {},
     "output_type": "execute_result"
    }
   ],
   "source": [
    "olx_gda_df.shape"
   ]
  },
  {
   "cell_type": "code",
   "execution_count": 66,
   "id": "cc27c600-066c-43d0-b5a8-36bc668af525",
   "metadata": {},
   "outputs": [],
   "source": [
    "def convert_numeric_to_float(convertable_string):\n",
    "    return float(convertable_string.replace(\"zł\", \"\").replace(\" \", \"\").replace(\"\\ndonegocjacji\", \"\"))\n",
    "\n",
    "def clear_olx(df: pd.DataFrame, city = 'Gdansk'):\n",
    "    df.drop(\n",
    "        labels=[\n",
    "            'link', \n",
    "            'username', \n",
    "            'on_olx_since', \n",
    "            'last_activity',\n",
    "            'title',\n",
    "            'description'\n",
    "        ],\n",
    "        inplace= True,\n",
    "        axis= 1\n",
    "    )\n",
    "    \n",
    "    is_negotiable_list = []\n",
    "    \n",
    "    for index, row in df.iterrows():\n",
    "\n",
    "        # negotiable\n",
    "        if 'do negocjacji' in row['rent']:\n",
    "            is_negotiable_list.append(True)\n",
    "        else:\n",
    "            is_negotiable_list.append(False)\n",
    "    \n",
    "    # negotiable apply\n",
    "    df['negotiable'] = is_negotiable_list\n",
    "\n",
    "\n",
    "    # rent\n",
    "    df['rent'] = df['rent'].apply(convert_numeric_to_float)\n",
    "\n",
    "    # rent_extra\n",
    "    df = df.rename(mapper={\"rent_extra\": \"Czynsz (dodatkowo)\"}, axis=1)\n",
    "    df['rent_extra'] = df['rent_extra'].apply(convert_numeric_to_float)"
   ]
  },
  {
   "cell_type": "code",
   "execution_count": 67,
   "id": "b6ded3e8-461c-4702-a18c-533947779a34",
   "metadata": {},
   "outputs": [
    {
     "name": "stdout",
     "output_type": "stream",
     "text": [
      "[False, False, False, False, False, True, False, False, True, False, False, True, False, False, True, True, False, False, False, False, False, False, False, False, False, False, False, False, False, False, False, False, False, False, False, False, False, True, False, False, False, False, True, False, False, False, False, False, False, False, False, False, False, True, True, False, False, False, False, False, False, False, False, False, False, False, False, False, False, False, False, False, True, False, False, False, False, False, False, True, False, False, False, False, False, False, False, True, False, False, False, False, False, False, False, False, False, True, False, False, False, False, False, True, False, False, False, False, True, False, False, False, False, False, False, True, False, False, False, False, False, False, False, False, False, False, False, False, True, True, False, False, True, False, False, False, False, False, False, False, False, False, False, False, False, False, False, False, False, True, False, False, False, False, False, False, False, False, False, True, False, False, False, False, False, False, False, False, False, False, True, False, False, False, False, False, False, False, False, False, False, False, False, False, False, True, False, False, False, False, False, False, False, False, False, False, False, False, False, False, False, False, True, False, False, False, True, False, False, False, False, False, False, True, False, False, False, False, False, False, False, False, True, False, False, False, False, False, False, False, False, True, False, False, False, False, False, False, False, False, False, False, False, False, False, False, False, False, False, False, False, False, False, True, True, False, False, False, False, True, False, False, False, True, False, False, False, False, False, False, False, False, False, False, False, False, False, False, True, False, False, False, False, False, False, False, False, False, False, False, False, False, False, False, False, False, False, False, False, False, False, False, True, False, False, False, True, False, False, False, False, False, False, False, False, False, False, False, False, False, False, False, False, True, False, True, False, False, False, False, False, False, False, False, False, False, False, False, True, False, True, False, False, False, False, False, False, False, False, True, False, False, False, False, False, False, False, False, False, False, False, False, False, False, False, False, True, False, False, True, False, False, False, False]\n"
     ]
    }
   ],
   "source": [
    "clear_olx(olx_gda_df)"
   ]
  },
  {
   "cell_type": "code",
   "execution_count": null,
   "id": "7b134218-71bd-42b4-ae57-ab0cd8aca2f3",
   "metadata": {},
   "outputs": [],
   "source": []
  }
 ],
 "metadata": {
  "kernelspec": {
   "display_name": "Python 3 (ipykernel)",
   "language": "python",
   "name": "python3"
  },
  "language_info": {
   "codemirror_mode": {
    "name": "ipython",
    "version": 3
   },
   "file_extension": ".py",
   "mimetype": "text/x-python",
   "name": "python",
   "nbconvert_exporter": "python",
   "pygments_lexer": "ipython3",
   "version": "3.10.10"
  }
 },
 "nbformat": 4,
 "nbformat_minor": 5
}
