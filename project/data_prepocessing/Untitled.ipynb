{
 "cells": [
  {
   "cell_type": "code",
   "execution_count": 1,
   "id": "bb2cc1bc-93af-470a-855d-28a068cbb40e",
   "metadata": {},
   "outputs": [],
   "source": [
    "import pandas as pd\n",
    "import numpy as np\n",
    "import re"
   ]
  },
  {
   "cell_type": "code",
   "execution_count": 2,
   "id": "08122690-371c-4923-89a4-5792f2118a91",
   "metadata": {},
   "outputs": [],
   "source": [
    "# pd.set_option('display.max_colwidth', None)"
   ]
  },
  {
   "cell_type": "code",
   "execution_count": 3,
   "id": "fae04109-d2a1-45c7-b349-4f067798d64b",
   "metadata": {},
   "outputs": [],
   "source": [
    "pd.reset_option('display.max_colwidth')"
   ]
  },
  {
   "cell_type": "code",
   "execution_count": 5,
   "id": "508c6ec4-5c4a-4230-a83f-deba76133281",
   "metadata": {},
   "outputs": [],
   "source": [
    "collected_08_23 = {\n",
    "    \"otodom_krk\" : \"../original_data/collected_08_23/master_data/otodom_krk.json\",\n",
    "    \"otodom_gda\" : \"../original_data/collected_08_23/master_data/otodom_gda.json\",\n",
    "    \"olx_gda\" : \"../original_data/collected_08_23/master_data/olx_gda.json\",\n",
    "    \"olx_krk\" : \"../original_data/collected_08_23/master_data/olx_krk.json\",\n",
    "    \"gratka_gda\" : \"../original_data/collected_08_23/master_data/gratka_gda.json\",\n",
    "    \"gratak_krk\" : \"../original_data/collected_08_23/master_data/gratka_krk.json\",\n",
    "    \"trojmiasto_gda\" : \"../original_data/collected_08_23/master_data/trojmiasto_gda.json\"\n",
    "}\n",
    "\n",
    "# Create a dictionary to store DataFrames\n",
    "dataframes_08_23 = {}\n",
    "\n",
    "# Iterate through the JSON data and create DataFrames\n",
    "for key, value in collected_08_23.items():\n",
    "    dataframes_08_23[key] = pd.read_json(value)  # Assuming the data is in JSON format\n",
    "\n",
    "# Now, you have a dictionary of DataFrames where each key is a dataset\n",
    "# You can access them like this:\n",
    "otodom_krk_df = dataframes_08_23[\"otodom_krk\"]\n",
    "otodom_gda_df = dataframes_08_23[\"otodom_gda\"]\n",
    "olx_gda_df = dataframes_08_23[\"olx_gda\"]\n",
    "olx_krk_df = dataframes_08_23[\"olx_krk\"]\n",
    "gratka_gda_df = dataframes_08_23[\"gratka_gda\"]\n",
    "gratak_krk_df = dataframes_08_23[\"gratak_krk\"]\n",
    "trojmiasto_gda_df = dataframes_08_23[\"trojmiasto_gda\"]"
   ]
  },
  {
   "cell_type": "code",
   "execution_count": null,
   "id": "f76cc89a-1eba-463c-98c4-cf22214975e1",
   "metadata": {},
   "outputs": [],
   "source": [
    "tr"
   ]
  }
 ],
 "metadata": {
  "kernelspec": {
   "display_name": "Python 3 (ipykernel)",
   "language": "python",
   "name": "python3"
  },
  "language_info": {
   "codemirror_mode": {
    "name": "ipython",
    "version": 3
   },
   "file_extension": ".py",
   "mimetype": "text/x-python",
   "name": "python",
   "nbconvert_exporter": "python",
   "pygments_lexer": "ipython3",
   "version": "3.10.10"
  }
 },
 "nbformat": 4,
 "nbformat_minor": 5
}
